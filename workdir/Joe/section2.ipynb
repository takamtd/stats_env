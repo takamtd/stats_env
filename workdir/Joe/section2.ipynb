{
 "cells": [
  {
   "cell_type": "markdown",
   "metadata": {},
   "source": [
    "# 2. 一般化線形回帰（問題21～33）"
   ]
  },
  {
   "cell_type": "code",
   "execution_count": 1,
   "metadata": {},
   "outputs": [],
   "source": [
    "import copy\n",
    "import japanize_matplotlib\n",
    "%matplotlib inline\n",
    "import matplotlib.pyplot as plt\n",
    "import numpy as np\n",
    "import scipy\n",
    "from matplotlib.pyplot import imshow\n",
    "from numpy.random import randn\n",
    "from scipy import stats"
   ]
  },
  {
   "cell_type": "code",
   "execution_count": 5,
   "metadata": {},
   "outputs": [
    {
     "ename": "ModuleNotFoundError",
     "evalue": "No module named 'glmnet'",
     "output_type": "error",
     "traceback": [
      "\u001b[0;31m---------------------------------------------------------------------------\u001b[0m",
      "\u001b[0;31mModuleNotFoundError\u001b[0m                       Traceback (most recent call last)",
      "\u001b[0;32m<ipython-input-5-3338d8ad748a>\u001b[0m in \u001b[0;36m<module>\u001b[0;34m\u001b[0m\n\u001b[1;32m      4\u001b[0m \u001b[0;32mimport\u001b[0m \u001b[0mmatplotlib\u001b[0m\u001b[0;34m.\u001b[0m\u001b[0mpyplot\u001b[0m \u001b[0;32mas\u001b[0m \u001b[0mplt\u001b[0m\u001b[0;34m\u001b[0m\u001b[0;34m\u001b[0m\u001b[0m\n\u001b[1;32m      5\u001b[0m \u001b[0;32mimport\u001b[0m \u001b[0mglmnet_python\u001b[0m\u001b[0;34m\u001b[0m\u001b[0;34m\u001b[0m\u001b[0m\n\u001b[0;32m----> 6\u001b[0;31m \u001b[0;32mfrom\u001b[0m \u001b[0mglmnet\u001b[0m \u001b[0;32mimport\u001b[0m \u001b[0mglmnet\u001b[0m\u001b[0;34m\u001b[0m\u001b[0;34m\u001b[0m\u001b[0m\n\u001b[0m\u001b[1;32m      7\u001b[0m \u001b[0;32mfrom\u001b[0m \u001b[0mglmnetCoef\u001b[0m \u001b[0;32mimport\u001b[0m \u001b[0mglmnetCoef\u001b[0m\u001b[0;34m\u001b[0m\u001b[0;34m\u001b[0m\u001b[0m\n\u001b[1;32m      8\u001b[0m \u001b[0;32mimport\u001b[0m \u001b[0msys\u001b[0m\u001b[0;34m\u001b[0m\u001b[0;34m\u001b[0m\u001b[0m\n",
      "\u001b[0;31mModuleNotFoundError\u001b[0m: No module named 'glmnet'"
     ]
    }
   ],
   "source": [
    "# Linuxでの実行（Windows, Google Colaboratory不可）\n",
    "import numpy as np\n",
    "import pandas as pd\n",
    "import matplotlib.pyplot as plt\n",
    "import glmnet_python\n",
    "from glmnet import glmnet\n",
    "from glmnetCoef import glmnetCoef\n",
    "import sys\n",
    "from cvglmnet import cvglmnet\n",
    "from cvglmnetCoef import cvglmnetCoef\n",
    "from cvglmnetPlot import cvglmnetPlot\n",
    "import os\n",
    "import rpy2.robjects as robjects\n",
    "from rpy2.robjects import pandas2ri\n",
    "from rpy2.robjects.packages import importr\n",
    "from lifelines import KaplanMeierFitter"
   ]
  },
  {
   "cell_type": "markdown",
   "metadata": {},
   "source": [
    "### 21"
   ]
  },
  {
   "cell_type": "code",
   "execution_count": null,
   "metadata": {},
   "outputs": [],
   "source": [
    "def f(x):\n",
    "    return (np.exp(beta_0 + np.dot(beta, x))\n",
    "            / (1 + np.exp(beta_0 + np.dot(beta, x))))"
   ]
  },
  {
   "cell_type": "code",
   "execution_count": null,
   "metadata": {},
   "outputs": [],
   "source": [
    "beta_0 = 0\n",
    "beta_seq = np.array([0, 0.2, 0.5, 1, 2, 10])\n",
    "m = len(beta_seq)\n",
    "x = np.arange(-10, 10)\n",
    "for i in range(m):\n",
    "    beta = beta_seq[i]\n",
    "    plt.plot(x, f(x), label=beta_seq[i])\n",
    "plt.title(\"ロジスティック曲線\")\n",
    "plt.xlabel(\"$x$\")\n",
    "plt.ylabel(\"$P(Y=1|x)$\")\n",
    "plt.legend()"
   ]
  },
  {
   "cell_type": "markdown",
   "metadata": {},
   "source": [
    "### 22"
   ]
  },
  {
   "cell_type": "code",
   "execution_count": null,
   "metadata": {},
   "outputs": [],
   "source": [
    "# データ生成\n",
    "N = 100\n",
    "p = 2\n",
    "X = np.random.randn(N, p)\n",
    "X = np.concatenate([np.ones(N).reshape(N, 1), X], axis=1)\n",
    "beta = np.random.randn(p+1)\n",
    "y = np.zeros(N)\n",
    "s = np.dot(X, beta)\n",
    "prob = 1 / (1 + np.exp(s))\n",
    "for i in range(N):\n",
    "    if np.random.rand(1) > prob[i]:\n",
    "        y[i] = 1\n",
    "    else:\n",
    "        y[i] = -1\n",
    "beta"
   ]
  },
  {
   "cell_type": "code",
   "execution_count": null,
   "metadata": {},
   "outputs": [],
   "source": [
    "# 最尤推定値の計算\n",
    "beta = np.inf\n",
    "gamma = np.random.randn(p + 1)\n",
    "while np.sum((beta - gamma) ** 2) > 0.001:\n",
    "    beta = gamma.copy()\n",
    "    s = np.dot(X, beta)\n",
    "    v = np.exp(-s * y)\n",
    "    u = y * v / (1 + v)\n",
    "    w = v / (1 + v) ** 2\n",
    "    z = s + u / w\n",
    "    W = np.diag(w)\n",
    "    gamma = np.dot(np.linalg.inv(X.T @ W @ X), np.dot(X.T @ W, z))\n",
    "    print(gamma)\n",
    "beta  # 真の値。最尤法でこの値を推定したい"
   ]
  },
  {
   "cell_type": "markdown",
   "metadata": {},
   "source": [
    "### 24"
   ]
  },
  {
   "cell_type": "code",
   "execution_count": null,
   "metadata": {},
   "outputs": [],
   "source": [
    "# Linuxマシンのフォルダに\"breastcancer.csv\"をおく\n",
    "x = np.loadtxt(\"breastcancer.csv\", delimiter=\",\", skiprows=1,\n",
    "               usecols=range(1000))\n",
    "y = np.loadtxt(\"breastcancer.csv\", delimiter=\",\", skiprows=1,\n",
    "               dtype=\"unicode\", usecols=1000)\n",
    "n = len(y)\n",
    "yy = np.ones(n)\n",
    "for i in range(n):\n",
    "    if y[i] == \"control\":\n",
    "        yy[i] = 1\n",
    "    else:\n",
    "        yy[i] = -1\n",
    "fit1 = cvglmnet(x=x.copy(), y=yy.copy(), ptype=\"deviance\", family=\"binomial\")"
   ]
  },
  {
   "cell_type": "markdown",
   "metadata": {},
   "source": [
    "### 26"
   ]
  },
  {
   "cell_type": "code",
   "execution_count": null,
   "metadata": {},
   "outputs": [],
   "source": [
    "from sklearn.datasets import load_iris\n",
    "iris = load_iris()\n",
    "X = np.array(iris[\"data\"])\n",
    "y = np.array(iris[\"target\"], dtype='float64')\n",
    "cvfit3 = cvglmnet(x=X.copy(), y=y.copy(),\n",
    "                  ptype='deviance', family='multinomial')\n",
    "lam_min = (cvfit1['lambda_min'])\n",
    "beta = cvglmnetCoef(cvfit)\n",
    "print(lam_min)\n",
    "print(beta)"
   ]
  },
  {
   "cell_type": "code",
   "execution_count": null,
   "metadata": {},
   "outputs": [],
   "source": [
    "fig3 = plt.figure()\n",
    "cvglmnetPlot(cvfit3)\n",
    "fig3.savefig(\"img3.png\")"
   ]
  },
  {
   "cell_type": "code",
   "execution_count": null,
   "metadata": {},
   "outputs": [],
   "source": [
    "K = 3\n",
    "p = 5\n",
    "n = 150\n",
    "gamma = np.zeros((K, p))\n",
    "for k in range(K):\n",
    "    for j in range(p):\n",
    "        gamma[k, j] = np.sum(beta[k][j])\n",
    "v = np.zeros(n)\n",
    "for i in range(n):\n",
    "    max_value = -np.inf\n",
    "    for k in range(K):\n",
    "        value = ## 空欄 ##\n",
    "        if value > max_value:\n",
    "            v[i] = k\n",
    "            max_value = value\n",
    "table_count(3, y, v)"
   ]
  },
  {
   "cell_type": "markdown",
   "metadata": {},
   "source": [
    "### 28"
   ]
  },
  {
   "cell_type": "code",
   "execution_count": null,
   "metadata": {},
   "outputs": [],
   "source": [
    "def poisson_lasso(X, y, lam):\n",
    "    p = X.shape[1]   # pはすべて1の列を含んでいる\n",
    "    beta = np.random.randn(p)\n",
    "    gamma = np.random.randn(p)\n",
    "    while np.sum((beta - gamma) ** 2) > 0.0001:\n",
    "        beta = gamma\n",
    "        s = np.dot(X, beta)\n",
    "        w = ## 空欄(1) ##\n",
    "        u = ## 空欄(2) ##\n",
    "        z = ## 空欄(3) ##\n",
    "        gamma_0, gamma_1 = W_linear_lasso(\n",
    "            X[:, range(1, p)], z, np.diag(w), lam)\n",
    "        gamma = np.block([gamma_0, gamma_1]).copy()\n",
    "        print(gamma)\n",
    "    return gamma"
   ]
  },
  {
   "cell_type": "code",
   "execution_count": null,
   "metadata": {},
   "outputs": [],
   "source": [
    "N = 100    # lambdaの値が小さいと発散して，推定値が出ないことがある。\n",
    "p = 3\n",
    "X = np.random.randn(N, p)\n",
    "X = np.concatenate([np.ones(N).reshape(N, 1), X], axis=1)\n",
    "beta = np.random.randn(p + 1)\n",
    "s = np.dot(X, beta)\n",
    "y = np.random.poisson(lam=np.exp(s))\n",
    "print(beta)"
   ]
  },
  {
   "cell_type": "code",
   "execution_count": null,
   "metadata": {},
   "outputs": [],
   "source": [
    "poisson_lasso(X, y, 2)"
   ]
  },
  {
   "cell_type": "markdown",
   "metadata": {},
   "source": [
    "### 29"
   ]
  },
  {
   "cell_type": "code",
   "execution_count": null,
   "metadata": {},
   "outputs": [],
   "source": [
    "import pandas as pd\n",
    "from lifelines import KaplanMeierFitter"
   ]
  },
  {
   "cell_type": "code",
   "execution_count": null,
   "metadata": {},
   "outputs": [],
   "source": [
    "df = pd.read_csv(\"kidney.csv\")\n",
    "df.drop(df.columns[0], axis=1, inplace=True)\n",
    "df"
   ]
  },
  {
   "cell_type": "code",
   "execution_count": null,
   "metadata": {},
   "outputs": [],
   "source": [
    "kmf = KaplanMeierFitter()\n",
    "ax = None\n",
    "for name, group in df.groupby(\"disease\"):\n",
    "    kmf.fit(group[\"time\"], event_observed=group[\"status\"],\n",
    "            label=\"肝臓病の種類：\" + str(name))\n",
    "    if ax is None:\n",
    "        ax = kmf.plot()\n",
    "    else:\n",
    "        ax = kmf.plot(ax=ax)\n",
    "plt.title(\"Kaplan-Meier Curve\")\n",
    "plt.show()"
   ]
  },
  {
   "cell_type": "markdown",
   "metadata": {},
   "source": [
    "### 32(a)"
   ]
  },
  {
   "cell_type": "code",
   "execution_count": null,
   "metadata": {},
   "outputs": [],
   "source": [
    "# Linuxでの実行（Windows, Google Colaboratory不可）\n",
    "# 最適な係数を求める（7339個中29個のみが非ゼロ）\n",
    "base = importr(\"base\")\n",
    "base.load(\"LymphomaData.rda\")\n",
    "w = robjects.globalenv[\"patient.data\"]\n",
    "X = np.array(w[0]).T\n",
    "y = np.array(w[1])\n",
    "delta = np.array(w[2])\n",
    "v = ## 空欄 ##\n",
    "fit = glmnet(x=X.copy(), y=v.copy(), family=\"cox\")\n",
    "beta = glmnetCoef(fit, s=np.float64([0.119787]))\n",
    "print(np.sum(beta != 0))"
   ]
  },
  {
   "cell_type": "markdown",
   "metadata": {},
   "source": [
    "### 32(b)"
   ]
  },
  {
   "cell_type": "code",
   "execution_count": null,
   "metadata": {},
   "outputs": [],
   "source": [
    "# Linuxでの実行（Windows, Google Colaboratory不可）\n",
    "# Kaplan-Meier曲線を描く\n",
    "z = np.sign(np.dot(X, beta))\n",
    "df2 = pd.DataFrame(np.concatenate([y.reshape(240, 1),\n",
    "                                   delta.reshape(240, 1), z], axis=1))\n",
    "df2.columns = [\"time\", \"status\", \"sign\"]\n",
    "fig = plt.figure()\n",
    "kmf = KaplanMeierFitter()\n",
    "ax = None\n",
    "for name, group in df2.groupby(\"## 空欄(1) ##\"):\n",
    "    kmf.fit(group[\"## 空欄(2) ##\"], event_observed=group[\"## 空欄(3) ##\"],\n",
    "            label=\"z = \" + str(name))\n",
    "    if ax is None:\n",
    "        ax = kmf.plot()\n",
    "    else:\n",
    "        ax = kmf.plot(ax=ax)"
   ]
  },
  {
   "cell_type": "code",
   "execution_count": null,
   "metadata": {},
   "outputs": [],
   "source": [
    "plt.title(\"Kaplan-Meier Curve\")\n",
    "fig.savefig(\"img7.png\")"
   ]
  },
  {
   "cell_type": "markdown",
   "metadata": {},
   "source": [
    "### 33"
   ]
  },
  {
   "cell_type": "code",
   "execution_count": null,
   "metadata": {},
   "outputs": [],
   "source": []
  }
 ],
 "metadata": {
  "kernelspec": {
   "display_name": "Python 3",
   "language": "python",
   "name": "python3"
  },
  "language_info": {
   "codemirror_mode": {
    "name": "ipython",
    "version": 3
   },
   "file_extension": ".py",
   "mimetype": "text/x-python",
   "name": "python",
   "nbconvert_exporter": "python",
   "pygments_lexer": "ipython3",
   "version": "3.8.6"
  }
 },
 "nbformat": 4,
 "nbformat_minor": 4
}
