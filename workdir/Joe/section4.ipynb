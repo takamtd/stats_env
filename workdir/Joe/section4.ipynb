{
 "cells": [
  {
   "cell_type": "markdown",
   "metadata": {},
   "source": [
    "# 4. Fused Lasso"
   ]
  },
  {
   "cell_type": "code",
   "execution_count": 3,
   "metadata": {},
   "outputs": [],
   "source": [
    "import copy\n",
    "import japanize_matplotlib\n",
    "%matplotlib inline\n",
    "import matplotlib.pyplot as plt\n",
    "import numpy as np\n",
    "import scipy\n",
    "from matplotlib.pyplot import imshow\n",
    "from numpy.random import randn\n",
    "from scipy import stats"
   ]
  },
  {
   "cell_type": "code",
   "execution_count": null,
   "metadata": {},
   "outputs": [],
   "source": []
  },
  {
   "cell_type": "markdown",
   "metadata": {},
   "source": [
    "## 4.1　Fused Lassoの適用事例"
   ]
  },
  {
   "cell_type": "markdown",
   "metadata": {},
   "source": [
    "### 例35"
   ]
  },
  {
   "cell_type": "code",
   "execution_count": 2,
   "metadata": {
    "scrolled": true
   },
   "outputs": [
    {
     "ename": "NameError",
     "evalue": "name 'fused' is not defined",
     "output_type": "error",
     "traceback": [
      "\u001b[0;31m---------------------------------------------------------------------------\u001b[0m",
      "\u001b[0;31mNameError\u001b[0m                                 Traceback (most recent call last)",
      "\u001b[0;32m<ipython-input-2-7660b365d73b>\u001b[0m in \u001b[0;36m<module>\u001b[0;34m\u001b[0m\n\u001b[1;32m      4\u001b[0m \u001b[0mn\u001b[0m \u001b[0;34m=\u001b[0m \u001b[0mlen\u001b[0m\u001b[0;34m(\u001b[0m\u001b[0my\u001b[0m\u001b[0;34m)\u001b[0m\u001b[0;34m\u001b[0m\u001b[0;34m\u001b[0m\u001b[0m\n\u001b[1;32m      5\u001b[0m \u001b[0mlam\u001b[0m \u001b[0;34m=\u001b[0m \u001b[0;36m1\u001b[0m\u001b[0;34m\u001b[0m\u001b[0;34m\u001b[0m\u001b[0m\n\u001b[0;32m----> 6\u001b[0;31m \u001b[0msoln\u001b[0m \u001b[0;34m=\u001b[0m \u001b[0mfused\u001b[0m\u001b[0;34m(\u001b[0m\u001b[0my\u001b[0m\u001b[0;34m,\u001b[0m \u001b[0mlam\u001b[0m\u001b[0;34m)\u001b[0m\u001b[0;34m\u001b[0m\u001b[0;34m\u001b[0m\u001b[0m\n\u001b[0m\u001b[1;32m      7\u001b[0m \u001b[0mplt\u001b[0m\u001b[0;34m.\u001b[0m\u001b[0mxlabel\u001b[0m\u001b[0;34m(\u001b[0m\u001b[0;34m\"遺伝子番号\"\u001b[0m\u001b[0;34m)\u001b[0m\u001b[0;34m\u001b[0m\u001b[0;34m\u001b[0m\u001b[0m\n\u001b[1;32m      8\u001b[0m \u001b[0mplt\u001b[0m\u001b[0;34m.\u001b[0m\u001b[0mylabel\u001b[0m\u001b[0;34m(\u001b[0m\u001b[0;34m\"コピー数比（対数値）\"\u001b[0m\u001b[0;34m)\u001b[0m\u001b[0;34m\u001b[0m\u001b[0;34m\u001b[0m\u001b[0m\n",
      "\u001b[0;31mNameError\u001b[0m: name 'fused' is not defined"
     ]
    }
   ],
   "source": [
    "# 実行に際しては，本章で定義される関数fusedを用いる\n",
    "df = np.loadtxt(\"cgh.txt\", delimiter=\"\\t\")\n",
    "y = df\n",
    "n = len(y)\n",
    "lam = 1\n",
    "soln = fused(y, lam)\n",
    "plt.xlabel(\"遺伝子番号\")\n",
    "plt.ylabel(\"コピー数比（対数値）\")\n",
    "plt.scatter(np.arange(n), y, s=1)\n",
    "plt.plot(soln, color=\"red\")"
   ]
  },
  {
   "cell_type": "markdown",
   "metadata": {},
   "source": [
    "### 例36"
   ]
  },
  {
   "cell_type": "code",
   "execution_count": null,
   "metadata": {},
   "outputs": [],
   "source": [
    "from japanmap import pref_names, pref_code, picture\n",
    "from pylab import rcParams"
   ]
  },
  {
   "cell_type": "code",
   "execution_count": null,
   "metadata": {},
   "outputs": [],
   "source": [
    "# この関数を変えることで，地図の色を変えることができる\n",
    "def rgb(minimum, maximum, value):\n",
    "    minimum, maximum = float(minimum), float(maximum)\n",
    "    ratio = 2 * (value - minimum) / (maximum - minimum)\n",
    "    r = 255\n",
    "    g = int(max(0, 255 * (ratio / 2)))\n",
    "    b = 0\n",
    "    return r, g, b"
   ]
  },
  {
   "cell_type": "code",
   "execution_count": null,
   "metadata": {},
   "outputs": [],
   "source": [
    "# 実行に際しては，本章で定義される関数admmを用いる\n",
    "lam = 50\n",
    "mat = np.loadtxt(\"adj.txt\", delimiter=\" \")\n",
    "y = np.loadtxt(\"2020_6_9.txt\", delimiter=\" \")\n",
    "u = []; v = []\n",
    "for i in range(46):\n",
    "    for j in range(i+1, 47):\n",
    "        if mat[i, j] == 1:\n",
    "            u.append(i); v.append(j)\n",
    "m = len(u)\n",
    "D = np.zeros((m, 47))\n",
    "for k in range(m):\n",
    "    D[k, u[k]] = 1; D[k, v[k]] = -1\n",
    "z = admm(y, D, lam)\n",
    "cc = np.round((10 - np.log(z)) * 2 - 1)\n",
    "min_cc = np.min(cc); max_cc = np.max(cc)\n",
    "data = {}\n",
    "for i in range(47):\n",
    "    data[i+1] = rgb(min_cc, max_cc, cc[i])"
   ]
  },
  {
   "cell_type": "code",
   "execution_count": null,
   "metadata": {},
   "outputs": [],
   "source": [
    "rcParams[\"figure.figsize\"] = 8, 8\n",
    "plt.imshow(picture())\n",
    "plt.imshow(picture(data))"
   ]
  },
  {
   "cell_type": "markdown",
   "metadata": {},
   "source": [
    "### 例37"
   ]
  },
  {
   "cell_type": "code",
   "execution_count": null,
   "metadata": {},
   "outputs": [],
   "source": [
    "n = 50\n",
    "x = np.array(range(n))\n",
    "y = np.sign(x / n * 2 * np.pi) + randn(n)\n",
    "lam = 1"
   ]
  },
  {
   "cell_type": "code",
   "execution_count": null,
   "metadata": {},
   "outputs": [],
   "source": [
    "def k_order(n, k):\n",
    "    D = np.zeros((n-1, n))\n",
    "    for i in range(n-1):\n",
    "        D[i, i] = 1\n",
    "        D[i, i+1] = -1\n",
    "    for j in range(1, k):\n",
    "        DD = np.zeros((n-j-1, n-j))\n",
    "        for i in range(n-j-2):\n",
    "            DD[i, i] = 1\n",
    "            DD[i, i+1] = -1\n",
    "        D = np.dot(DD, D)\n",
    "    return D"
   ]
  },
  {
   "cell_type": "code",
   "execution_count": null,
   "metadata": {},
   "outputs": [],
   "source": [
    "# 実行に際しては，本章で定義される関数admmを用いる\n",
    "k = 4\n",
    "D = k_order(n, k)\n",
    "soln = admm(y, D, lam)\n",
    "plt.xlabel(\"position\")\n",
    "plt.ylabel(\"trend filtering estimate\")\n",
    "plt.scatter(np.arange(n), y, s=1)\n",
    "plt.plot(soln, color=\"red\")"
   ]
  },
  {
   "cell_type": "markdown",
   "metadata": {},
   "source": [
    "## 4.2　動的計画法によるFused Lassoの解法"
   ]
  },
  {
   "cell_type": "code",
   "execution_count": null,
   "metadata": {},
   "outputs": [],
   "source": [
    "def clean(z):\n",
    "    m = len(z)\n",
    "    j = 1\n",
    "    while (z[0] >= z[j] and j < m-1):\n",
    "        j = j + 1\n",
    "    k = m - 2\n",
    "    while (z[m-1] <= z[k] and k > 0):\n",
    "        k = k - 1\n",
    "    if j > k:\n",
    "        return z[[0, m-1]]\n",
    "    else:\n",
    "        z_append = np.append(z[j:(k+1)], z[m-1])\n",
    "        return np.append(z[0], z_append)"
   ]
  },
  {
   "cell_type": "code",
   "execution_count": null,
   "metadata": {},
   "outputs": [],
   "source": [
    "def G(i, theta, L, U, lam):\n",
    "    if i == 0:\n",
    "        return theta - y[0]\n",
    "    elif (theta > L[i-1] and theta < U[i-1]):\n",
    "        return G(i-1, theta, L, U, lam) + theta - y[i]\n",
    "    elif theta >= U[i-1]:\n",
    "        return lam + theta - y[i]\n",
    "    else:\n",
    "        return -lam + theta - y[i]"
   ]
  },
  {
   "cell_type": "code",
   "execution_count": null,
   "metadata": {},
   "outputs": [],
   "source": [
    "def fused(y, lam):\n",
    "    if lam == 0:\n",
    "        return y\n",
    "    n = len(y)\n",
    "    L = np.zeros(n-1)\n",
    "    U = np.zeros(n-1)\n",
    "    theta = np.zeros(n)\n",
    "    L[0] = y[0] - lam\n",
    "    U[0] = y[0] + lam\n",
    "    z = [L[0], U[0]]\n",
    "    if n > 2:\n",
    "        for i in range(1, n-1):\n",
    "            z = np.append(y[i] - 2*lam, z)\n",
    "            z = np.append(z, y[i] + 2*lam)\n",
    "            z = clean(z)\n",
    "            m = len(z)\n",
    "            j = 0\n",
    "            while G(i, z[j], L, U, lam) + lam <= 0:\n",
    "                j = j + 1\n",
    "            if j == 0:\n",
    "                L[i] = z[m-1]\n",
    "                j = 1\n",
    "            else:\n",
    "                L[i] = z[j-1] - ((z[j] - z[j-1]) * (G(i, z[j-1], L, U, lam) + lam)\n",
    "                                 / (-G(i, z[j-1], L, U, lam) + G(i, z[j], L, U, lam)))\n",
    "            k = m - 1\n",
    "            while G(i, z[k], L, U, lam) - lam >= 0:\n",
    "                k = k - 1\n",
    "            if k == m - 1:\n",
    "                U[i] = z[0]\n",
    "                k = m - 2\n",
    "            else:\n",
    "                U[i] = z[k] - ((z[k+1] - z[k]) * (G(i, z[k], L, U, lam) - lam)\n",
    "                               / (-G(i, z[k], L, U, lam) + G(i, z[k+1], L, U, lam)))\n",
    "            z = z[j:(k+1)]\n",
    "            z = np.append(L[i], z)\n",
    "            z = np.append(z, U[i])\n",
    "        z = np.append(y[n-1] - lam, z)\n",
    "        z = np.append(z, y[n-1] + lam)\n",
    "        z = clean(z)\n",
    "        m = len(z)\n",
    "        j = 0\n",
    "    while (G(n-1, z[j], L, U, lam) <= 0 and j < m-1):\n",
    "        j = j + 1\n",
    "    if j == 0:\n",
    "        theta[n-1] = z[0]\n",
    "    else:\n",
    "        theta[n-1] = (z[j-1]\n",
    "                      - ((z[j] - z[j-1]) * G(n-1, z[j-1], L, U, lam)\n",
    "                         / (-G(n-1, z[j-1], L, U, lam) + G(n-1, z[j], L, U, lam))))\n",
    "    for i in range(n-1, 0, -1):\n",
    "        if theta[i] < L[i-1]:\n",
    "            theta[i-1] = L[i-1]\n",
    "        elif theta[i] > U[i-1]:\n",
    "            theta[i-1] = U[i-1]\n",
    "        else:\n",
    "            theta[i-1] = theta[i]\n",
    "    return theta"
   ]
  },
  {
   "cell_type": "code",
   "execution_count": null,
   "metadata": {},
   "outputs": [],
   "source": [
    "lam = 1\n",
    "n = 10\n",
    "y = sorted(randn(n))\n",
    "print(fused(y, lam))"
   ]
  },
  {
   "cell_type": "markdown",
   "metadata": {},
   "source": [
    "## 4.3　LARS"
   ]
  },
  {
   "cell_type": "code",
   "execution_count": null,
   "metadata": {},
   "outputs": [],
   "source": [
    "def lars(X, y):\n",
    "    n, p = X.shape\n",
    "    X_bar = np.zeros(p)\n",
    "    for j in range(p):\n",
    "        X_bar[j] = np.mean(X[:, j])\n",
    "        X[:, j] = X[:, j] - X_bar[j]\n",
    "    y_bar = np.mean(y)\n",
    "    y = y - y_bar\n",
    "    scale = np.zeros(p)\n",
    "    for j in range(p):\n",
    "        scale[j] = np.sqrt(np.sum(X[:, j] * X[:, j]) / n)\n",
    "        X[:, j] = X[:, j] / scale[j]\n",
    "    beta = np.zeros((p+1, p))\n",
    "    lambda_seq = np.zeros(p+1)\n",
    "    for j in range(p):\n",
    "        lam = np.abs(np.sum(X[:, j] * y))\n",
    "        if lam > lambda_seq[0]:\n",
    "            j_max = j\n",
    "            lambda_seq[0] = lam\n",
    "    r = copy.copy(y)\n",
    "    f_s = list(range(p))\n",
    "    index = [j_max]\n",
    "    Delta = np.zeros(p)\n",
    "    for k in range(1, p):\n",
    "        sub_s = list(set(f_s) - set(index))\n",
    "        Delta[index] = (np.linalg.inv(X[:, index].T @ X[:, index]) @ X[:, index].T @ r\n",
    "                        / lambda_seq[k-1])\n",
    "        u = X[:, sub_s].T @ (r - lambda_seq[k-1] * X @ Delta)\n",
    "        v = -X[:, sub_s].T @ (X @ Delta)\n",
    "        t = u / (v+1)\n",
    "        for i in range(0, p-k):\n",
    "            if t[i] > lambda_seq[k]:\n",
    "                lambda_seq[k] = t[i]\n",
    "                i_max = i\n",
    "        t = u / (v-1)\n",
    "        for i in range(0, p-k):\n",
    "            if t[i] > lambda_seq[k]:\n",
    "                lambda_seq[k] = t[i]\n",
    "                i_max = i\n",
    "        j = sub_s[i_max]\n",
    "        index.append(j)\n",
    "        beta[k, :] = beta[k-1, :] + (lambda_seq[k-1] - lambda_seq[k]) * Delta\n",
    "        r = y - X @ beta[k, :]\n",
    "    for k in range(p+1):\n",
    "        for j in range(p):\n",
    "            beta[k, j] = beta[k, j] / scale[j]\n",
    "    return([beta, lambda_seq])"
   ]
  },
  {
   "cell_type": "markdown",
   "metadata": {},
   "source": [
    "### 例38"
   ]
  },
  {
   "cell_type": "code",
   "execution_count": null,
   "metadata": {},
   "outputs": [],
   "source": [
    "df = np.loadtxt(\"crime.txt\", delimiter=\"\\t\")\n",
    "X = df[:, 2:7]\n",
    "y = df[:, 0]\n",
    "res = lars(X, y)\n",
    "beta, lambda_seq = res\n",
    "p = beta.shape[1]"
   ]
  },
  {
   "cell_type": "code",
   "execution_count": null,
   "metadata": {},
   "outputs": [],
   "source": [
    "plt.xlim(0, 8000)\n",
    "plt.ylim(-7.5, 15)\n",
    "plt.xlabel(r\"$\\lambda$\")\n",
    "plt.ylabel(\"係数の値\")\n",
    "labels = [\"警察への年間資金\", \"25歳以上で高校を卒業した人の割合\",\n",
    "          \"16-19歳で高校に通っていない人の割合\", \"18-24歳で大学生の割合\",\n",
    "          \"25歳以上で4年制大学を卒業した人の割合\"]\n",
    "cols = [\"black\", \"red\", \"green\", \"blue\", \"cyan\"]\n",
    "for i in range(0, 5):\n",
    "    plt.plot(lambda_seq[0:p], beta[0:p, i], color=cols[i],\n",
    "             label=\"{}\".format(labels[i]))\n",
    "plt.legend(loc=\"upper right\")"
   ]
  },
  {
   "cell_type": "markdown",
   "metadata": {},
   "source": [
    "## 4.4　Lassoの双対問題と一般化Lasso"
   ]
  },
  {
   "cell_type": "code",
   "execution_count": null,
   "metadata": {},
   "outputs": [],
   "source": [
    "def fused_dual(y, D):\n",
    "    m = D.shape[0]\n",
    "    lambda_seq = np.zeros(m)\n",
    "    s = np.zeros(m)\n",
    "    alpha = np.zeros((m, m))\n",
    "    alpha[0, :] = np.linalg.pinv(D @ D.T) @ D @ y\n",
    "    for j in range(m):\n",
    "        if np.abs(alpha[0, j]) > lambda_seq[0]:\n",
    "            lambda_seq[0] = np.abs(alpha[0, j])\n",
    "            index = [j]\n",
    "            if alpha[0, j] > 0:\n",
    "                s[j] = 1\n",
    "            else:\n",
    "                s[j] = -1\n",
    "    f_s = list(range(m))\n",
    "    for k in range(1, m):\n",
    "        sub_s = list(set(f_s) - set(index))\n",
    "        U = np.linalg.pinv(D[sub_s, :] @ D[sub_s, :].T)\n",
    "        V = D[sub_s, :] @ D[index, :].T\n",
    "        u = U @ D[sub_s, :] @ y\n",
    "        v = U @ V @ s[index]\n",
    "        t = u / (v+1)\n",
    "        for i in range(0, m-k):\n",
    "            if t[i] > lambda_seq[k]:\n",
    "                lambda_seq[k] = t[i]\n",
    "                h = i\n",
    "                r = 1\n",
    "        t = u / (v-1)\n",
    "        for i in range(0, m-k):\n",
    "            if t[i] > lambda_seq[k]:\n",
    "                lambda_seq[k] = t[i]\n",
    "                h = i\n",
    "                r = -1\n",
    "        alpha[k, index] = lambda_seq[k] * s[index]\n",
    "        alpha[k, sub_s] = u - lambda_seq[k] * v\n",
    "        h = sub_s[h]\n",
    "        index.append(h)\n",
    "        if r == 1:\n",
    "            s[h] = 1\n",
    "        else:\n",
    "            s[h] = -1\n",
    "    return [alpha, lambda_seq]"
   ]
  },
  {
   "cell_type": "code",
   "execution_count": null,
   "metadata": {},
   "outputs": [],
   "source": [
    "def fused_prime(y, D):\n",
    "    alpha, lambda_seq = fused_dual(y, D)\n",
    "    m = D.shape[0]\n",
    "    return [np.tile(y, (m, 1)).T - D.T @ alpha.T, lambda_seq]"
   ]
  },
  {
   "cell_type": "markdown",
   "metadata": {},
   "source": [
    "### 例41"
   ]
  },
  {
   "cell_type": "code",
   "execution_count": null,
   "metadata": {},
   "outputs": [],
   "source": [
    "p = 8\n",
    "m = p - 1\n",
    "D = (np.eye(p) + np.diag([-1]*(p-1), k=1))[:-1]\n",
    "y = sorted(randn(p))"
   ]
  },
  {
   "cell_type": "code",
   "execution_count": null,
   "metadata": {},
   "outputs": [],
   "source": [
    "alpha, lambda_seq = fused_dual(y, D)\n",
    "lambda_max = np.max(lambda_seq)\n",
    "alpha_min = np.min(alpha)\n",
    "alpha_max = np.max(alpha)"
   ]
  },
  {
   "cell_type": "code",
   "execution_count": null,
   "metadata": {},
   "outputs": [],
   "source": [
    "plt.xlim(0, lambda_max)\n",
    "plt.ylim(alpha_min, alpha_max)\n",
    "plt.xlabel(r\"$\\lambda$\")\n",
    "plt.ylabel(\"係数の値\")\n",
    "for i in range(0, m):\n",
    "    plt.plot(lambda_seq, alpha[:, i])"
   ]
  },
  {
   "cell_type": "code",
   "execution_count": null,
   "metadata": {},
   "outputs": [],
   "source": [
    "beta, lambda_seq = fused_prime(y, D)\n",
    "beta_min = np.min(beta)\n",
    "beta_max = np.max(beta)"
   ]
  },
  {
   "cell_type": "code",
   "execution_count": null,
   "metadata": {},
   "outputs": [],
   "source": [
    "plt.xlim(0, lambda_max)\n",
    "plt.ylim(beta_min, beta_max)\n",
    "plt.xlabel(r\"$\\lambda$\")\n",
    "plt.ylabel(\"係数の値\")\n",
    "for i in range(0, p):\n",
    "    plt.plot(lambda_seq, beta[i, :])"
   ]
  },
  {
   "cell_type": "code",
   "execution_count": null,
   "metadata": {},
   "outputs": [],
   "source": [
    "def fused_dual_general(X, y, D):\n",
    "    X_plus = np.linalg.inv(X.T @ X) @ X.T\n",
    "    D_tilde = D @ X_plus\n",
    "    y_tilde = X @ X_plus @ y\n",
    "    return fused_dual(y_tilde, D_tilde)"
   ]
  },
  {
   "cell_type": "code",
   "execution_count": null,
   "metadata": {},
   "outputs": [],
   "source": [
    "def fused_prime_general(X, y, D):\n",
    "    p = X.shape[1]\n",
    "    m = D.shape[0]\n",
    "    X_plus = np.linalg.inv(X.T @ X) @ X.T\n",
    "    D_tilde = D @ X_plus\n",
    "    y_tilde = X @ X_plus @ y\n",
    "    alpha, lambda_seq = fused_dual(y_tilde, D_tilde)\n",
    "    beta = np.zeros((m, p))\n",
    "    for k in range(m):\n",
    "        beta[k, :] = X_plus @ (y.T - D_tilde.T @ alpha[k, :])\n",
    "    return [beta, lambda_seq]"
   ]
  },
  {
   "cell_type": "markdown",
   "metadata": {},
   "source": [
    "### 例42"
   ]
  },
  {
   "cell_type": "code",
   "execution_count": null,
   "metadata": {},
   "outputs": [],
   "source": [
    "n = 20\n",
    "p = 10\n",
    "beta = randn(p+1)\n",
    "X = randn(n*p).reshape((n, p))\n",
    "X_0 = np.insert(X, 0, np.ones(n), axis=1)\n",
    "y = X_0 @ beta + randn(n)\n",
    "m = p - 1\n",
    "D = (np.eye(p) + np.diag([-1]*(p-1), k=1))[:-1]\n",
    "alpha, lambda_seq = fused_dual_general(X, y, D)"
   ]
  },
  {
   "cell_type": "code",
   "execution_count": null,
   "metadata": {},
   "outputs": [],
   "source": [
    "lambda_max = np.max(lambda_seq)\n",
    "alpha_min = np.min(alpha)\n",
    "alpha_max = np.max(alpha)"
   ]
  },
  {
   "cell_type": "code",
   "execution_count": null,
   "metadata": {},
   "outputs": [],
   "source": [
    "plt.xlim(0, lambda_max)\n",
    "plt.ylim(alpha_min, alpha_max)\n",
    "plt.xlabel(r\"$\\lambda$\")\n",
    "plt.ylabel(\"係数の値\")\n",
    "for i in range(0, m):\n",
    "    plt.plot(lambda_seq, alpha[:, i])"
   ]
  },
  {
   "cell_type": "code",
   "execution_count": null,
   "metadata": {},
   "outputs": [],
   "source": [
    "beta, lambda_seq = fused_prime_general(X, y, D)\n",
    "beta_min = np.min(beta)\n",
    "beta_max = np.max(beta)"
   ]
  },
  {
   "cell_type": "code",
   "execution_count": null,
   "metadata": {},
   "outputs": [],
   "source": [
    "plt.xlim(0, lambda_max)\n",
    "plt.ylim(beta_min, beta_max)\n",
    "plt.xlabel(r\"$\\lambda$\")\n",
    "plt.ylabel(\"係数の値\")\n",
    "for i in range(0, p):\n",
    "    plt.plot(lambda_seq, beta[:, i])"
   ]
  },
  {
   "cell_type": "markdown",
   "metadata": {},
   "source": [
    "## 4.5　ADMM"
   ]
  },
  {
   "cell_type": "code",
   "execution_count": null,
   "metadata": {},
   "outputs": [],
   "source": [
    "def soft_th(lam, x):\n",
    "    return np.sign(x) * np.maximum(np.abs(x) - lam, 0)"
   ]
  },
  {
   "cell_type": "code",
   "execution_count": null,
   "metadata": {},
   "outputs": [],
   "source": [
    "def admm(y, D, lam):\n",
    "    L, K = D.shape\n",
    "    theta_old = np.zeros(K)\n",
    "    theta = np.zeros(K)\n",
    "    gamma = np.zeros(L)\n",
    "    mu = np.zeros(L)\n",
    "    rho = 1\n",
    "    eps = 1\n",
    "    while eps > 0.001:\n",
    "        theta = (np.linalg.inv(np.eye(K) + rho * D.T @ D)\n",
    "                 @ (y + D.T @ (rho * gamma - mu)))\n",
    "        gamma = soft_th(lam, rho * D @ theta + mu) / rho\n",
    "        mu = mu + rho * (D @ theta - gamma)\n",
    "        eps = np.max(np.abs(theta - theta_old))\n",
    "        theta_old = copy.copy(theta)\n",
    "    return theta"
   ]
  },
  {
   "cell_type": "markdown",
   "metadata": {},
   "source": [
    "### 例44"
   ]
  },
  {
   "cell_type": "code",
   "execution_count": null,
   "metadata": {},
   "outputs": [],
   "source": [
    "df = np.loadtxt(\"cgh.txt\", delimiter=\"\\t\")\n",
    "y = df[100:110]\n",
    "N = len(y)\n",
    "D = (np.eye(N) + np.diag([-1]*(N-1), k=1))[:-1]\n",
    "lambda_seq = np.arange(0, 0.5, 0.01)\n",
    "M = len(lambda_seq)\n",
    "theta = np.zeros((10, M))\n",
    "for k in range(M):\n",
    "    theta[:, k] = admm(y, D, lambda_seq[k])"
   ]
  },
  {
   "cell_type": "code",
   "execution_count": null,
   "metadata": {},
   "outputs": [],
   "source": [
    "plt.xlim(0, 0.5)\n",
    "plt.ylim(np.min(theta), np.max(theta))\n",
    "plt.xlabel(r\"$\\lambda$\")\n",
    "plt.ylabel(\"係数の値\")\n",
    "for i in range(0, 10):\n",
    "    plt.plot(lambda_seq, theta[i, :])"
   ]
  }
 ],
 "metadata": {
  "kernelspec": {
   "display_name": "Python 3",
   "language": "python",
   "name": "python3"
  },
  "language_info": {
   "codemirror_mode": {
    "name": "ipython",
    "version": 3
   },
   "file_extension": ".py",
   "mimetype": "text/x-python",
   "name": "python",
   "nbconvert_exporter": "python",
   "pygments_lexer": "ipython3",
   "version": "3.8.5"
  }
 },
 "nbformat": 4,
 "nbformat_minor": 4
}
