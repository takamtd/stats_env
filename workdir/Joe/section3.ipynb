{
 "cells": [
  {
   "cell_type": "markdown",
   "metadata": {},
   "source": [
    "# 3. グループLasso"
   ]
  },
  {
   "cell_type": "code",
   "execution_count": 2,
   "metadata": {},
   "outputs": [],
   "source": [
    "import copy\n",
    "import japanize_matplotlib\n",
    "%matplotlib inline\n",
    "import matplotlib.pyplot as plt\n",
    "import numpy as np\n",
    "import scipy\n",
    "from matplotlib.pyplot import imshow\n",
    "from numpy.random import randn\n",
    "from scipy import stats"
   ]
  },
  {
   "cell_type": "markdown",
   "metadata": {},
   "source": [
    "**第1章より**"
   ]
  },
  {
   "cell_type": "code",
   "execution_count": 8,
   "metadata": {},
   "outputs": [],
   "source": [
    "def centralize(X0, y0, standardize=True):\n",
    "    X = copy.copy(X0)\n",
    "    y = copy.copy(y0)\n",
    "    n, p = X.shape\n",
    "    X_bar = np.zeros(p)                   # Xの各列の平均\n",
    "    X_sd = np.zeros(p)                    # Xの各列の標準偏差\n",
    "    for j in range(p):\n",
    "        X_bar[j] = np.mean(X[:, j])\n",
    "        X[:, j] = X[:, j] - X_bar[j]      # Xの各列の中心化\n",
    "        X_sd[j] = np.std(X[:, j])\n",
    "        if standardize is True:\n",
    "            X[:, j] = X[:, j] / X_sd[j]   # Xの各列の標準化\n",
    "    if np.ndim(y) == 2:\n",
    "        K = y.shape[1]\n",
    "        y_bar = np.zeros(K)               # yの平均\n",
    "        for k in range(K):\n",
    "            y_bar[k] = np.mean(y[:, k])\n",
    "            y[:, k] = y[:, k] - y_bar[k]  # yの中心化\n",
    "    else:                                 # yがベクトルの場合\n",
    "        y_bar = np.mean(y)\n",
    "        y = y - y_bar\n",
    "    return X, y, X_bar, X_sd, y_bar"
   ]
  },
  {
   "cell_type": "markdown",
   "metadata": {},
   "source": [
    "## 3.1　グループ数が1の場合"
   ]
  },
  {
   "cell_type": "code",
   "execution_count": 4,
   "metadata": {},
   "outputs": [],
   "source": [
    "def gr(X, y, lam):\n",
    "    p = X.shape[1]\n",
    "    nu = 1 / np.max(np.linalg.eigvals(X.T @ X))\n",
    "    beta = np.zeros(p)\n",
    "    beta_old = np.zeros(p)\n",
    "    eps = 1\n",
    "    while eps > 0.001:\n",
    "        gamma = beta + nu * X.T @ (y - X @ beta)\n",
    "        beta = max(1 - lam * nu / np.linalg.norm(gamma, 2), 0) * gamma\n",
    "        eps = np.max(np.abs(beta - beta_old))\n",
    "        beta_old = copy.copy(beta)\n",
    "    return beta"
   ]
  },
  {
   "cell_type": "markdown",
   "metadata": {},
   "source": [
    "### 例27"
   ]
  },
  {
   "cell_type": "code",
   "execution_count": 5,
   "metadata": {},
   "outputs": [],
   "source": [
    "n = 100\n",
    "p = 3\n",
    "X = randn(n, p)\n",
    "beta = randn(p)\n",
    "epsilon = randn(n)\n",
    "y = 0.1 * X @ beta + epsilon\n",
    "lambda_seq = np.arange(1, 50, 0.5)\n",
    "m = len(lambda_seq)\n",
    "beta_est = np.zeros((m, p))\n",
    "for i in range(m):\n",
    "    est = gr(X, y, lambda_seq[i])\n",
    "    beta_est[i, :] = est"
   ]
  },
  {
   "cell_type": "code",
   "execution_count": 6,
   "metadata": {},
   "outputs": [
    {
     "data": {
      "image/png": "[encoded data removed]",
      "text/plain": [
       "<Figure size 432x288 with 1 Axes>"
      ]
     },
     "metadata": {
      "needs_background": "light"
     },
     "output_type": "display_data"
    }
   ],
   "source": [
    "plt.xlim(0, 50)\n",
    "plt.ylim(np.min(beta_est), np.max(beta_est))\n",
    "plt.xlabel(r\"$\\lambda$\")\n",
    "plt.ylabel(\"係数の値\")\n",
    "labels = [\"係数1\", \"係数2\", \"係数3\"]\n",
    "for i in range(p):\n",
    "    plt.plot(lambda_seq, beta_est[:, i], label=\"{}\".format(labels[i]))\n",
    "plt.legend(loc=\"upper right\")\n",
    "plt.show()"
   ]
  },
  {
   "cell_type": "markdown",
   "metadata": {},
   "source": [
    "## 3.2　近接勾配法"
   ]
  },
  {
   "cell_type": "code",
   "execution_count": null,
   "metadata": {},
   "outputs": [],
   "source": [
    "def fista(X, y, lam):\n",
    "    p = X.shape[1]\n",
    "    nu = 1 / np.max(np.linalg.eigvals(X.T @ X))\n",
    "    alpha = 1\n",
    "    beta = np.zeros(p)\n",
    "    beta_old = np.zeros(p)\n",
    "    gamma = np.zeros(p)\n",
    "    eps = 1\n",
    "    while eps > 0.001:\n",
    "        w = gamma + nu * X.T @ (y - X @ gamma)\n",
    "        beta = max(1 - lam * nu / np.linalg.norm(w, 2), 0) * w\n",
    "        alpha_old = copy.copy(alpha)\n",
    "        alpha = (1 + np.sqrt(1 + 4 * alpha**2)) / 2\n",
    "        gamma = beta + (alpha_old - 1) / alpha * (beta - beta_old)\n",
    "        eps = np.max(np.abs(beta - beta_old))\n",
    "        beta_old = copy.copy(beta)\n",
    "    return beta"
   ]
  },
  {
   "cell_type": "markdown",
   "metadata": {},
   "source": [
    "## 3.3　グループLasso"
   ]
  },
  {
   "cell_type": "code",
   "execution_count": null,
   "metadata": {},
   "outputs": [],
   "source": [
    "def group_lasso(z, y, lam=0):\n",
    "    J = len(z)\n",
    "    theta = []\n",
    "    for i in range(J):\n",
    "        theta.append(np.zeros(z[i].shape[1]))\n",
    "    for m in range(10):\n",
    "        for j in range(J):\n",
    "            r = copy.copy(y)\n",
    "            for k in range(J):\n",
    "                if k != j:\n",
    "                    r = r - z[k] @ theta[k]\n",
    "            theta[j] = gr(z[j], r, lam)\n",
    "    return theta"
   ]
  },
  {
   "cell_type": "markdown",
   "metadata": {},
   "source": [
    "### 例29"
   ]
  },
  {
   "cell_type": "code",
   "execution_count": null,
   "metadata": {},
   "outputs": [],
   "source": [
    "n = 100\n",
    "J = 2\n",
    "u = randn(n)\n",
    "v = u + randn(n)\n",
    "s = 0.1 * randn(n)\n",
    "t = 0.1 * s + randn(n)\n",
    "y = u + v + s + t + randn(n)\n",
    "z = []\n",
    "z = np.array([np.array([u, v]).T, np.array([s, t]).T])\n",
    "lambda_seq = np.arange(0, 500, 10)\n",
    "m = len(lambda_seq)\n",
    "beta = np.zeros((m, 4))\n",
    "for i in range(m):\n",
    "    est = group_lasso(z, y, lambda_seq[i])\n",
    "    beta[i, :] = np.array([est[0][0], est[0][1], est[1][0], est[1][1]])\n",
    "plt.xlim(0, 500)\n",
    "plt.ylim(np.min(beta), np.max(beta))\n",
    "plt.xlabel(r\"$\\lambda$\")\n",
    "plt.ylabel(\"係数の値\")\n",
    "labels = [\"グループ1\", \"グループ1\", \"グループ2\", \"グループ2\"]\n",
    "cols = [\"red\", \"blue\"]\n",
    "lins = [\"solid\", \"dashed\"]\n",
    "for i in range(4):\n",
    "    plt.plot(lambda_seq, beta[:, i], color=cols[i//2],\n",
    "             linestyle=lins[i % 2], label=\"{}\".format(labels[i]))\n",
    "plt.legend(loc=\"upper right\")\n",
    "plt.axvline(0, color=\"black\")"
   ]
  },
  {
   "cell_type": "markdown",
   "metadata": {},
   "source": [
    "## 3.4　スパースグループLasso"
   ]
  },
  {
   "cell_type": "code",
   "execution_count": null,
   "metadata": {},
   "outputs": [],
   "source": [
    "def soft_th(lam, x):\n",
    "    return np.sign(x) * np.maximum(np.abs(x) - lam, 0)"
   ]
  },
  {
   "cell_type": "code",
   "execution_count": null,
   "metadata": {},
   "outputs": [],
   "source": [
    "def sparse_gr(X, y, lam, alpha):\n",
    "    p = X.shape[1]\n",
    "    nu = 1 / np.max(np.linalg.eigvals(X.T @ X))\n",
    "    beta = np.zeros(p)\n",
    "    beta_old = np.zeros(p)\n",
    "    eps = 1\n",
    "    while eps > 0.001:\n",
    "        gamma = beta + nu * X.T @ (y - X @ beta)\n",
    "        delta = soft_th(lam * alpha, gamma)                                             ##\n",
    "        beta = np.zeros(p)\n",
    "        if np.linalg.norm(delta, 2) > 0:\n",
    "            beta = max(1 - lam * nu * (1-alpha) / np.linalg.norm(delta, 2), 0) * delta  ##\n",
    "        eps = np.max(np.abs(beta - beta_old))\n",
    "        beta_old = copy.copy(beta)\n",
    "    return beta"
   ]
  },
  {
   "cell_type": "code",
   "execution_count": null,
   "metadata": {},
   "outputs": [],
   "source": [
    "def sparse_group_lasso(z, y, lam=0, alpha=0):\n",
    "    J = len(z)\n",
    "    theta = []\n",
    "    for i in range(J):\n",
    "        theta.append(np.zeros(z[i].shape[1]))\n",
    "    for m in range(10):\n",
    "        for j in range(J):\n",
    "            r = copy.copy(y)\n",
    "            for k in range(J):\n",
    "                if k != j:\n",
    "                    r = r - z[k] @ theta[k]\n",
    "                theta[j] = sparse_gr(z[j], r, lam, alpha)                               ##\n",
    "    return theta"
   ]
  },
  {
   "cell_type": "markdown",
   "metadata": {},
   "source": [
    "## 3.5　オーバーラップグループLasso"
   ]
  },
  {
   "cell_type": "markdown",
   "metadata": {},
   "source": [
    "## 3.6　目的変数が複数個ある場合のグループLasso"
   ]
  },
  {
   "cell_type": "code",
   "execution_count": null,
   "metadata": {},
   "outputs": [],
   "source": [
    "def gr_multi_linear_lasso(X, Y, lam):\n",
    "    n, p = X.shape\n",
    "    K = Y.shape[1]\n",
    "    X, Y, x_bar, x_sd, y_bar = centralize(X, Y)\n",
    "    beta = np.zeros((p, K))\n",
    "    gamma = np.zeros((p, K))\n",
    "    eps = 1\n",
    "    while eps > 0.01:\n",
    "        gamma = copy.copy(beta)\n",
    "        R = Y - X @ beta\n",
    "        for j in range(p):\n",
    "            r = R + X[:, j].reshape(n, 1) @ beta[j, :].reshape(1, K)\n",
    "            M = X[:, j] @ r\n",
    "            beta[j, :] = (max(1 - lam / np.sqrt(np.sum(M*M)), 0)\n",
    "                          / np.sum(X[:, j] * X[:, j]) * M)\n",
    "            R = r - X[:, j].reshape(n, 1) @ beta[j, :].reshape(1, K)\n",
    "        eps = np.linalg.norm(beta - gamma)\n",
    "    for j in range(p):\n",
    "        beta[j, :] = beta[j, :] / x_sd[j]\n",
    "    beta_0 = y_bar - x_bar @ beta\n",
    "    return [beta_0, beta]"
   ]
  },
  {
   "cell_type": "markdown",
   "metadata": {},
   "source": [
    "### 例32"
   ]
  },
  {
   "cell_type": "code",
   "execution_count": null,
   "metadata": {},
   "outputs": [],
   "source": [
    "df = np.loadtxt(\"giants_2019.txt\", delimiter=\"\\t\")\n",
    "index = list(set(range(9)) - {1, 2})\n",
    "X = np.array(df[:, index])\n",
    "Y = np.array(df[:, [1, 2]])\n",
    "lambda_seq = np.arange(0, 200, 5)\n",
    "m = len(lambda_seq)\n",
    "beta_1 = np.zeros((m, 7))\n",
    "beta_2 = np.zeros((m, 7))"
   ]
  },
  {
   "cell_type": "code",
   "execution_count": null,
   "metadata": {},
   "outputs": [],
   "source": [
    "for i in range(m):\n",
    "    beta = gr_multi_linear_lasso(X, Y, lambda_seq[i])\n",
    "    beta_1[i, :] = beta[1][:, 0]\n",
    "    beta_2[i, :] = beta[1][:, 1]\n",
    "beta_max = np.max(np.array([beta_1, beta_2]))\n",
    "beta_min = np.min(np.array([beta_1, beta_2]))"
   ]
  },
  {
   "cell_type": "code",
   "execution_count": null,
   "metadata": {},
   "outputs": [],
   "source": [
    "plt.xlim(0, 200)\n",
    "plt.ylim(beta_min, beta_max)\n",
    "plt.xlabel(r\"$\\lambda$\")\n",
    "plt.ylabel(\"係数の値\")\n",
    "labels = [\"安打\", \"盗塁\", \"四球\", \"死球\", \"三振\", \"犠打\", \"併殺打\"]\n",
    "cols = [\"red\", \"green\", \"blue\", \"cyan\", \"magenta\", \"yellow\", \"gray\"]\n",
    "lins = [\"solid\", \"dashed\"]\n",
    "for i in range(7):\n",
    "    plt.plot(lambda_seq, beta_1[:, i], color=cols[i], linestyle=lins[0],\n",
    "             label=\"{}\".format(labels[i]))\n",
    "    plt.plot(lambda_seq, beta_2[:, i], color=cols[i], linestyle=lins[1],\n",
    "             label=\"{}\".format(labels[i]))\n",
    "plt.legend(loc=\"upper right\")"
   ]
  },
  {
   "cell_type": "markdown",
   "metadata": {},
   "source": [
    "## 3.7　ロジスティック回帰におけるグループLasso"
   ]
  },
  {
   "cell_type": "code",
   "execution_count": null,
   "metadata": {},
   "outputs": [],
   "source": [
    "def gr_multi_lasso(X, y, lam):\n",
    "    n = X.shape[0]\n",
    "    p = X.shape[1]\n",
    "    K = len(np.unique(y))\n",
    "    beta = np.ones((p, K))\n",
    "    Y = np.zeros((n, K))\n",
    "    for i in range(n):\n",
    "        Y[i, y[i]] = 1\n",
    "    eps = 1\n",
    "    while eps > 0.001:\n",
    "        gamma = copy.copy(beta)\n",
    "        eta = X @ beta\n",
    "        P = np.exp(eta)\n",
    "        for i in range(n):\n",
    "            P[i, ] = P[i, ] / np.sum(P[i, ])\n",
    "        t = 2 * np.max(P*(1-P))\n",
    "        R = (Y-P) / t\n",
    "        for j in range(p):\n",
    "            r = R + X[:, j].reshape(n, 1) @ beta[j, :].reshape(1, K)\n",
    "            M = X[:, j] @ r\n",
    "            beta[j, :] = (max(1 - lam / t / np.sqrt(np.sum(M*M)), 0)\n",
    "                          / np.sum(X[:, j]*X[:, j]) * M)\n",
    "            R = r - X[:, j].reshape(n, 1) @ beta[j, :].reshape(1, K)\n",
    "        eps = np.linalg.norm(beta - gamma)\n",
    "    return beta"
   ]
  },
  {
   "cell_type": "markdown",
   "metadata": {},
   "source": [
    "### 例33"
   ]
  },
  {
   "cell_type": "code",
   "execution_count": null,
   "metadata": {},
   "outputs": [],
   "source": [
    "from sklearn.datasets import load_iris\n",
    "iris = load_iris()\n",
    "X = np.array(iris[\"data\"])\n",
    "y = np.array(iris[\"target\"])"
   ]
  },
  {
   "cell_type": "code",
   "execution_count": null,
   "metadata": {},
   "outputs": [],
   "source": [
    "lambda_seq = np.arange(10, 151, 10)\n",
    "m = len(lambda_seq)\n",
    "p = X.shape[1]\n",
    "K = 3\n",
    "alpha = np.zeros((m, p, K))\n",
    "for i in range(m):\n",
    "    res = gr_multi_lasso(X, y, lambda_seq[i])\n",
    "    alpha[i, :, :] = res\n",
    "plt.xlim(0, 150)\n",
    "plt.ylim(np.min(alpha), np.max(alpha))\n",
    "plt.xlabel(r\"$\\lambda$\")\n",
    "plt.ylabel(\"係数の値\")\n",
    "handles = []\n",
    "labels = [\"がく片の長さ\", \"がく片の幅\", \"花びらの長さ\", \"花びらの幅\"]\n",
    "cols = [\"red\", \"green\", \"blue\", \"cyan\"]\n",
    "for i in range(4):\n",
    "    for k in range(K):\n",
    "        line, = plt.plot(lambda_seq, alpha[:, i, k], color=cols[i],\n",
    "                         label=\"{}\".format(labels[i]))\n",
    "    handles.append(line)\n",
    "plt.legend(handles, labels, loc=\"upper right\")"
   ]
  },
  {
   "cell_type": "markdown",
   "metadata": {},
   "source": [
    "## 3.8　一般化加法モデルにおけるグループLasso"
   ]
  },
  {
   "cell_type": "markdown",
   "metadata": {},
   "source": [
    "### 例34"
   ]
  },
  {
   "cell_type": "code",
   "execution_count": null,
   "metadata": {},
   "outputs": [],
   "source": [
    "n = 100\n",
    "J = 2\n",
    "x = randn(n)\n",
    "y = x + np.cos(x)\n",
    "z = [np.array([np.ones(n), x]).T, np.array([np.cos(x), np.cos(2*x), np.cos(3*x)]).T]\n",
    "lambda_seq = np.arange(1, 200, 5)\n",
    "m = len(lambda_seq)\n",
    "beta = np.zeros((m, 5))\n",
    "for i in range(m):\n",
    "    est = group_lasso(z, y, lambda_seq[i])\n",
    "    beta[i, :] = np.array([est[0][0], est[0][1], est[1][0], est[1][1], est[1][2]])"
   ]
  },
  {
   "cell_type": "code",
   "execution_count": null,
   "metadata": {},
   "outputs": [],
   "source": [
    "plt.xlim(0, 200)\n",
    "plt.ylim(np.min(beta), np.max(beta))\n",
    "plt.xlabel(r\"$\\lambda$\")\n",
    "plt.ylabel(\"係数の値\")\n",
    "labels = [\"1\", \"$x$\", r\"$\\cos x$\", r\"$\\cos 2x$\", r\"$\\cos 3x$\"]\n",
    "cols = [\"red\", \"blue\"]\n",
    "lins = [\"solid\", \"dashed\", \"dashdot\"]\n",
    "plt.plot(lambda_seq, beta[:, 0], color=cols[0], linestyle=lins[0],\n",
    "         label=\"{}\".format(labels[0]))\n",
    "plt.plot(lambda_seq, beta[:, 1], color=cols[0], linestyle=lins[1],\n",
    "         label=\"{}\".format(labels[1]))\n",
    "plt.plot(lambda_seq, beta[:, 2], color=cols[1], linestyle=lins[0],\n",
    "         label=\"{}\".format(labels[2]))\n",
    "plt.plot(lambda_seq, beta[:, 3], color=cols[1], linestyle=lins[1],\n",
    "         label=\"{}\".format(labels[3]))\n",
    "plt.plot(lambda_seq, beta[:, 4], color=cols[1], linestyle=lins[2],\n",
    "         label=\"{}\".format(labels[4]))\n",
    "plt.legend(loc=\"upper right\")\n",
    "plt.axvline(0, color=\"black\")"
   ]
  },
  {
   "cell_type": "code",
   "execution_count": null,
   "metadata": {},
   "outputs": [],
   "source": [
    "i = 5\n",
    "def f_1(x):\n",
    "    return beta[i, 0] + beta[i, 1] * x\n",
    "def f_2(x):\n",
    "    return beta[i, 2] * np.cos(x) + beta[i, 3] * np.cos(2*x) + beta[i, 4] * np.cos(3*x)\n",
    "def f(x):\n",
    "    return f_1(x) + f_2(x)\n",
    "x_seq = np.arange(-5, 5, 0.1)\n",
    "plt.xlim(-5, 5)\n",
    "plt.ylim(-5, 5)\n",
    "plt.xlabel(\"$x$\")\n",
    "plt.ylabel(\"関数の値\")\n",
    "labels = [\"$f_1(x) + f_2(x)$\", \"$f_1(x)$\", \"$f_2(x)$\"]\n",
    "cols = [\"black\", \"red\", \"blue\"]\n",
    "plt.plot(x_seq, f(x_seq), color=cols[0], label=\"{}\".format(labels[0]))\n",
    "plt.plot(x_seq, f_1(x_seq), color=cols[1], label=\"{}\".format(labels[1]))\n",
    "plt.plot(x_seq, f_2(x_seq), color=cols[2], label=\"{}\".format(labels[2]))\n",
    "plt.legend()"
   ]
  }
 ],
 "metadata": {
  "kernelspec": {
   "display_name": "Python 3",
   "language": "python",
   "name": "python3"
  },
  "language_info": {
   "codemirror_mode": {
    "name": "ipython",
    "version": 3
   },
   "file_extension": ".py",
   "mimetype": "text/x-python",
   "name": "python",
   "nbconvert_exporter": "python",
   "pygments_lexer": "ipython3",
   "version": "3.8.5"
  }
 },
 "nbformat": 4,
 "nbformat_minor": 4
}
