{
 "cells": [
  {
   "cell_type": "markdown",
   "metadata": {},
   "source": [
    "# 5. グラフィカルモデル（問題62～75）"
   ]
  },
  {
   "cell_type": "code",
   "execution_count": 51,
   "metadata": {},
   "outputs": [],
   "source": [
    "import copy\n",
    "import japanize_matplotlib\n",
    "%matplotlib inline\n",
    "import matplotlib.pyplot as plt\n",
    "import numpy as np\n",
    "import scipy\n",
    "from matplotlib.pyplot import imshow\n",
    "from numpy.random import randn\n",
    "from scipy import stats\n",
    "from scipy import sparse\n",
    "from sklearn.covariance import graphical_lasso\n",
    "from IPython.core.display import display, SVG\n",
    "import igraph\n",
    "import pandas as pd\n",
    "from sklearn.linear_model import ElasticNet\n",
    "from sklearn.linear_model import LogisticRegression\n",
    "import scipy.stats as ss"
   ]
  },
  {
   "cell_type": "code",
   "execution_count": 11,
   "metadata": {},
   "outputs": [],
   "source": [
    "def inner_prod(x, y):\n",
    "    return np.dot(x, y)"
   ]
  },
  {
   "cell_type": "code",
   "execution_count": 12,
   "metadata": {},
   "outputs": [],
   "source": [
    "def soft_th(lambd, x):\n",
    "    return np.sign(x) * np.maximum(np.abs(x) - lambd, 0)"
   ]
  },
  {
   "cell_type": "code",
   "execution_count": 25,
   "metadata": {},
   "outputs": [],
   "source": [
    "def fused_dual(y, D):\n",
    "    m = D.shape[0]\n",
    "    lambda_seq = np.zeros(m)\n",
    "    s = np.zeros(m)\n",
    "    alpha = np.zeros((m, m))\n",
    "    alpha[0, :] = np.linalg.pinv(D @ D.T) @ D @ y\n",
    "    for j in range(m):\n",
    "        if np.abs(alpha[0, j]) > lambda_seq[0]:\n",
    "            lambda_seq[0] = np.abs(alpha[0, j])\n",
    "            index = [j]\n",
    "            if alpha[0, j] > 0:\n",
    "                s[j] = 1\n",
    "            else:\n",
    "                s[j] = -1\n",
    "    f_s = list(range(m))\n",
    "    for k in range(1, m):\n",
    "        sub_s = list(set(f_s) - set(index))\n",
    "        U = np.linalg.pinv(D[sub_s, :] @ D[sub_s, :].T)\n",
    "        V = D[sub_s, :] @ D[index, :].T\n",
    "        u = U @ D[sub_s, :] @ y\n",
    "        v = U @ V @ s[index]\n",
    "        t = u / (v+1)\n",
    "        for i in range(0, m-k):\n",
    "            if t[i] > lambda_seq[k]:\n",
    "                lambda_seq[k] = t[i]\n",
    "                h = i\n",
    "                r = 1\n",
    "        t = u / (v-1)\n",
    "        for i in range(0, m-k):\n",
    "            if t[i] > lambda_seq[k]:\n",
    "                lambda_seq[k] = t[i]\n",
    "                h = i\n",
    "                r = -1\n",
    "        alpha[k, index] = lambda_seq[k] * s[index]\n",
    "        alpha[k, sub_s] = u - lambda_seq[k] * v\n",
    "        h = sub_s[h]\n",
    "        index.append(h)\n",
    "        if r == 1:\n",
    "            s[h] = 1\n",
    "        else:\n",
    "            s[h] = -1\n",
    "    return [alpha, lambda_seq]"
   ]
  },
  {
   "cell_type": "code",
   "execution_count": 26,
   "metadata": {},
   "outputs": [],
   "source": [
    "def fused_prime(y, D):\n",
    "    alpha, lambda_seq = fused_dual(y, D)\n",
    "    m = D.shape[0]\n",
    "    return [np.tile(y, (m, 1)).T - D.T @ alpha.T, lambda_seq]"
   ]
  },
  {
   "cell_type": "code",
   "execution_count": 27,
   "metadata": {},
   "outputs": [],
   "source": [
    "# 第4章のfused_dual, fused_primeを用いる\n",
    "def fused_2(y, D, lam_0):\n",
    "    beta, lam = fused_prime(y, D)\n",
    "    m, p = D.shape\n",
    "    i = 0\n",
    "    for k in range(1, m):\n",
    "        if lam[k-1] < lam_0 <= lam[k]:\n",
    "            i = k\n",
    "    if lam_0 > lam[m-1]:\n",
    "        beta_0 = beta[m-1, ]\n",
    "    elif i == 0:\n",
    "        beta_0 = beta[0, ]\n",
    "    else:\n",
    "        beta_0 = (beta[i-1, ]\n",
    "                  + (lam_0 - lam[i-1]) / (lam[i] - lam[i-1]) * (beta[i, ] - beta[i-1, ]))\n",
    "    return beta_0"
   ]
  },
  {
   "cell_type": "code",
   "execution_count": 28,
   "metadata": {},
   "outputs": [],
   "source": [
    "# 大きさが3以上でないとfused_2は稼働しない\n",
    "def b_fused(y, lambd):\n",
    "    if y[0] > y[1] + 2 * lambd:\n",
    "        a = y[0] - lambd; b = y[1] + lambd\n",
    "    elif y[0] < y[1] - 2 * lambd:\n",
    "        a = y[0] + lambd; b = y[1] - lambd\n",
    "    else:\n",
    "        a = (y[0] + y[1]) / 2; b = a\n",
    "    return [a, b]"
   ]
  },
  {
   "cell_type": "markdown",
   "metadata": {},
   "source": [
    "### 70"
   ]
  },
  {
   "cell_type": "code",
   "execution_count": 13,
   "metadata": {},
   "outputs": [],
   "source": [
    "def graph_lasso(s, lambd=0):\n",
    "    s = np.array(s)\n",
    "    W = s; p = s.shape[1]; beta = np.zeros((p-1, p)); w = s.shape[0]\n",
    "    beta_out = beta; eps_out = 1\n",
    "    while eps_out > 0.01:\n",
    "        for j in range(p):\n",
    "            a = np.delete(np.delete(W, j, 0), j, 1); b = np.delete(s, j, 0)[:, j]\n",
    "            beta_in = beta[:, j]; eps_in = 1\n",
    "            while eps_in > 0.01:\n",
    "                for h in range(p - 1):\n",
    "                    cc = b[h] - inner_prod(np.delete(a, h, 1)[h, :],\n",
    "                                           np.delete(beta, h, 0)[:, j])\n",
    "                    beta[h, j] = soft_th(lambd, cc) / a[h, h]\n",
    "                eps_in = np.max(beta[:, j] - beta_in); beta_in = beta[:, j]\n",
    "            m = list(np.arange(j)); n = list(np.arange(j+1, w)); z = m + n\n",
    "            W[z, j] = np.dot(a, beta[:, j])\n",
    "        eps_out = np.max(beta - beta_out); beta_out = beta\n",
    "    theta = np.zeros((p, p))\n",
    "    for j in range(p - 1):\n",
    "        m1 = list(np.arange(j)); n1 = list(np.arange(j+1, p)); z1 = m1 + n1\n",
    "        theta[j, j] = 1 / (W[j, j] - np.dot(np.delete(W, j, 1)[j, :], beta[:, j]))\n",
    "        theta[z1, j] = -beta[:, j] * theta[j, j]\n",
    "    return theta"
   ]
  },
  {
   "cell_type": "code",
   "execution_count": 14,
   "metadata": {},
   "outputs": [],
   "source": [
    "Theta = np.array([   2,  0.6,    0,    0,  0.5,  0.6,    2, -0.4,  0.3,    0,\n",
    "                     0, -0.4,    2, -0.2,    0,    0,  0.3, -0.2,    2, -0.2,\n",
    "                   0.5,    0,    0, -0.2,    2]).reshape(-1, 5)\n",
    "Sigma = np.linalg.inv(Theta)\n",
    "meanvec = np.repeat(0, 5)\n",
    "dat = np.random.multivariate_normal(meanvec, Sigma, 20)"
   ]
  },
  {
   "cell_type": "code",
   "execution_count": 15,
   "metadata": {},
   "outputs": [],
   "source": [
    "# サンプル行列を生成\n",
    "s = np.dot(dat.T, dat) / dat.shape[0]"
   ]
  },
  {
   "cell_type": "code",
   "execution_count": 16,
   "metadata": {},
   "outputs": [
    {
     "name": "stdout",
     "output_type": "stream",
     "text": [
      "[[ 2.   0.6  0.   0.   0.5]\n",
      " [ 0.6  2.  -0.4  0.3  0. ]\n",
      " [ 0.  -0.4  2.  -0.2  0. ]\n",
      " [ 0.   0.3 -0.2  2.  -0.2]\n",
      " [ 0.5  0.   0.  -0.2  2. ]]\n",
      "[[ 3.2944715   0.19418198 -0.07692045  0.40723872  0.        ]\n",
      " [ 0.2083362   1.52661781 -0.46249813  0.00421346  0.        ]\n",
      " [-0.14719216 -0.44146561  2.00228424 -0.22876887  0.        ]\n",
      " [ 0.50885491  0.03597965 -0.27987639  1.4188403   0.        ]\n",
      " [ 1.00905069 -0.37691633 -0.40063534  0.03073113  0.        ]]\n",
      "[[ 3.1959854   0.15270883 -0.02636389  0.36742554  0.        ]\n",
      " [ 0.16242552  1.49387774 -0.42096484 -0.          0.        ]\n",
      " [-0.0776389  -0.40945508  1.96131445 -0.2013278   0.        ]\n",
      " [ 0.44380262  0.00328657 -0.23599099  1.40213153  0.        ]\n",
      " [ 0.9313522  -0.36332305 -0.36828279  0.          0.        ]]\n"
     ]
    }
   ],
   "source": [
    "print(Theta)\n",
    "print(graph_lasso(s))\n",
    "print(graph_lasso(s, lambd=0.01))"
   ]
  },
  {
   "cell_type": "markdown",
   "metadata": {},
   "source": [
    "### 71"
   ]
  },
  {
   "cell_type": "code",
   "execution_count": 43,
   "metadata": {},
   "outputs": [],
   "source": [
    "import pandas as pd"
   ]
  },
  {
   "cell_type": "code",
   "execution_count": 44,
   "metadata": {},
   "outputs": [],
   "source": [
    "def adj(mat):\n",
    "    p = mat.shape[1]; ad = np.zeros((p, p))\n",
    "    for i in range(p - 1):\n",
    "        for j in range((i + 1), p):\n",
    "            if mat[i, j] == 0:\n",
    "                ad[i, j] = 0\n",
    "            else:\n",
    "                ad[i, j] = 1\n",
    "    g = igraph.Graph.Adjacency(ad.tolist(), mode=igraph.ADJ_MAX)\n",
    "    g.vs[\"label\"] = list(range(g.vcount()))\n",
    "    return igraph.plot(g, bbox=(300, 300))"
   ]
  },
  {
   "cell_type": "code",
   "execution_count": 45,
   "metadata": {},
   "outputs": [],
   "source": [
    "df = pd.read_csv(\"breastcancer.csv\")\n",
    "df.drop(df.columns[len(df.columns) - 1], axis=1, inplace=True)\n",
    "df = df.values"
   ]
  },
  {
   "cell_type": "code",
   "execution_count": 52,
   "metadata": {},
   "outputs": [
    {
     "ename": "KeyboardInterrupt",
     "evalue": "",
     "output_type": "error",
     "traceback": [
      "\u001b[0;31m---------------------------------------------------------------------------\u001b[0m",
      "\u001b[0;31mKeyboardInterrupt\u001b[0m                         Traceback (most recent call last)",
      "\u001b[0;32m<ipython-input-52-91dc728062ad>\u001b[0m in \u001b[0;36m<module>\u001b[0;34m\u001b[0m\n\u001b[1;32m      3\u001b[0m     \u001b[0mw\u001b[0m\u001b[0;34m[\u001b[0m\u001b[0;34m:\u001b[0m\u001b[0;34m,\u001b[0m \u001b[0mi\u001b[0m\u001b[0;34m]\u001b[0m \u001b[0;34m=\u001b[0m \u001b[0mdf\u001b[0m\u001b[0;34m[\u001b[0m\u001b[0;34m:\u001b[0m\u001b[0;34m,\u001b[0m \u001b[0mi\u001b[0m\u001b[0;34m]\u001b[0m\u001b[0;34m\u001b[0m\u001b[0;34m\u001b[0m\u001b[0m\n\u001b[1;32m      4\u001b[0m \u001b[0mx\u001b[0m \u001b[0;34m=\u001b[0m \u001b[0mw\u001b[0m\u001b[0;34m;\u001b[0m \u001b[0ms\u001b[0m \u001b[0;34m=\u001b[0m \u001b[0mnp\u001b[0m\u001b[0;34m.\u001b[0m\u001b[0mdot\u001b[0m\u001b[0;34m(\u001b[0m\u001b[0mx\u001b[0m\u001b[0;34m.\u001b[0m\u001b[0mT\u001b[0m\u001b[0;34m,\u001b[0m \u001b[0mx\u001b[0m\u001b[0;34m)\u001b[0m \u001b[0;34m/\u001b[0m \u001b[0;36m250\u001b[0m\u001b[0;34m\u001b[0m\u001b[0;34m\u001b[0m\u001b[0m\n\u001b[0;32m----> 5\u001b[0;31m \u001b[0mfit\u001b[0m \u001b[0;34m=\u001b[0m \u001b[0mgraphical_lasso\u001b[0m\u001b[0;34m(\u001b[0m\u001b[0ms\u001b[0m\u001b[0;34m,\u001b[0m \u001b[0;36m0.75\u001b[0m\u001b[0;34m)\u001b[0m\u001b[0;34m\u001b[0m\u001b[0;34m\u001b[0m\u001b[0m\n\u001b[0m\u001b[1;32m      6\u001b[0m \u001b[0mprint\u001b[0m\u001b[0;34m(\u001b[0m\u001b[0mnp\u001b[0m\u001b[0;34m.\u001b[0m\u001b[0msum\u001b[0m\u001b[0;34m(\u001b[0m\u001b[0mlist\u001b[0m\u001b[0;34m(\u001b[0m\u001b[0mmap\u001b[0m\u001b[0;34m(\u001b[0m\u001b[0;32mlambda\u001b[0m \u001b[0mx\u001b[0m\u001b[0;34m:\u001b[0m \u001b[0mx\u001b[0m \u001b[0;34m==\u001b[0m \u001b[0;36m0\u001b[0m\u001b[0;34m,\u001b[0m \u001b[0mfit\u001b[0m\u001b[0;34m[\u001b[0m\u001b[0;36m1\u001b[0m\u001b[0;34m]\u001b[0m\u001b[0;34m)\u001b[0m\u001b[0;34m)\u001b[0m\u001b[0;34m)\u001b[0m\u001b[0;34m)\u001b[0m\u001b[0;34m\u001b[0m\u001b[0;34m\u001b[0m\u001b[0m\n\u001b[1;32m      7\u001b[0m \u001b[0my\u001b[0m \u001b[0;34m=\u001b[0m \u001b[0mpd\u001b[0m\u001b[0;34m.\u001b[0m\u001b[0mDataFrame\u001b[0m\u001b[0;34m(\u001b[0m\u001b[0mcolumns\u001b[0m\u001b[0;34m=\u001b[0m\u001b[0;34m[\u001b[0m\u001b[0;34m\"y\"\u001b[0m\u001b[0;34m]\u001b[0m\u001b[0;34m)\u001b[0m\u001b[0;34m;\u001b[0m \u001b[0mz\u001b[0m \u001b[0;34m=\u001b[0m \u001b[0mpd\u001b[0m\u001b[0;34m.\u001b[0m\u001b[0mDataFrame\u001b[0m\u001b[0;34m(\u001b[0m\u001b[0mcolumns\u001b[0m\u001b[0;34m=\u001b[0m\u001b[0;34m[\u001b[0m\u001b[0;34m\"z\"\u001b[0m\u001b[0;34m]\u001b[0m\u001b[0;34m)\u001b[0m\u001b[0;34m\u001b[0m\u001b[0;34m\u001b[0m\u001b[0m\n",
      "\u001b[0;32m/usr/local/lib/python3.8/dist-packages/sklearn/utils/validation.py\u001b[0m in \u001b[0;36minner_f\u001b[0;34m(*args, **kwargs)\u001b[0m\n\u001b[1;32m     61\u001b[0m             \u001b[0mextra_args\u001b[0m \u001b[0;34m=\u001b[0m \u001b[0mlen\u001b[0m\u001b[0;34m(\u001b[0m\u001b[0margs\u001b[0m\u001b[0;34m)\u001b[0m \u001b[0;34m-\u001b[0m \u001b[0mlen\u001b[0m\u001b[0;34m(\u001b[0m\u001b[0mall_args\u001b[0m\u001b[0;34m)\u001b[0m\u001b[0;34m\u001b[0m\u001b[0;34m\u001b[0m\u001b[0m\n\u001b[1;32m     62\u001b[0m             \u001b[0;32mif\u001b[0m \u001b[0mextra_args\u001b[0m \u001b[0;34m<=\u001b[0m \u001b[0;36m0\u001b[0m\u001b[0;34m:\u001b[0m\u001b[0;34m\u001b[0m\u001b[0;34m\u001b[0m\u001b[0m\n\u001b[0;32m---> 63\u001b[0;31m                 \u001b[0;32mreturn\u001b[0m \u001b[0mf\u001b[0m\u001b[0;34m(\u001b[0m\u001b[0;34m*\u001b[0m\u001b[0margs\u001b[0m\u001b[0;34m,\u001b[0m \u001b[0;34m**\u001b[0m\u001b[0mkwargs\u001b[0m\u001b[0;34m)\u001b[0m\u001b[0;34m\u001b[0m\u001b[0;34m\u001b[0m\u001b[0m\n\u001b[0m\u001b[1;32m     64\u001b[0m \u001b[0;34m\u001b[0m\u001b[0m\n\u001b[1;32m     65\u001b[0m             \u001b[0;31m# extra_args > 0\u001b[0m\u001b[0;34m\u001b[0m\u001b[0;34m\u001b[0m\u001b[0;34m\u001b[0m\u001b[0m\n",
      "\u001b[0;32m/usr/local/lib/python3.8/dist-packages/sklearn/covariance/_graph_lasso.py\u001b[0m in \u001b[0;36mgraphical_lasso\u001b[0;34m(emp_cov, alpha, cov_init, mode, tol, enet_tol, max_iter, verbose, return_costs, eps, return_n_iter)\u001b[0m\n\u001b[1;32m    195\u001b[0m     \u001b[0mdiagonal\u001b[0m \u001b[0;34m=\u001b[0m \u001b[0memp_cov\u001b[0m\u001b[0;34m.\u001b[0m\u001b[0mflat\u001b[0m\u001b[0;34m[\u001b[0m\u001b[0;34m:\u001b[0m\u001b[0;34m:\u001b[0m\u001b[0mn_features\u001b[0m \u001b[0;34m+\u001b[0m \u001b[0;36m1\u001b[0m\u001b[0;34m]\u001b[0m\u001b[0;34m\u001b[0m\u001b[0;34m\u001b[0m\u001b[0m\n\u001b[1;32m    196\u001b[0m     \u001b[0mcovariance_\u001b[0m\u001b[0;34m.\u001b[0m\u001b[0mflat\u001b[0m\u001b[0;34m[\u001b[0m\u001b[0;34m:\u001b[0m\u001b[0;34m:\u001b[0m\u001b[0mn_features\u001b[0m \u001b[0;34m+\u001b[0m \u001b[0;36m1\u001b[0m\u001b[0;34m]\u001b[0m \u001b[0;34m=\u001b[0m \u001b[0mdiagonal\u001b[0m\u001b[0;34m\u001b[0m\u001b[0;34m\u001b[0m\u001b[0m\n\u001b[0;32m--> 197\u001b[0;31m     \u001b[0mprecision_\u001b[0m \u001b[0;34m=\u001b[0m \u001b[0mlinalg\u001b[0m\u001b[0;34m.\u001b[0m\u001b[0mpinvh\u001b[0m\u001b[0;34m(\u001b[0m\u001b[0mcovariance_\u001b[0m\u001b[0;34m)\u001b[0m\u001b[0;34m\u001b[0m\u001b[0;34m\u001b[0m\u001b[0m\n\u001b[0m\u001b[1;32m    198\u001b[0m \u001b[0;34m\u001b[0m\u001b[0m\n\u001b[1;32m    199\u001b[0m     \u001b[0mindices\u001b[0m \u001b[0;34m=\u001b[0m \u001b[0mnp\u001b[0m\u001b[0;34m.\u001b[0m\u001b[0marange\u001b[0m\u001b[0;34m(\u001b[0m\u001b[0mn_features\u001b[0m\u001b[0;34m)\u001b[0m\u001b[0;34m\u001b[0m\u001b[0;34m\u001b[0m\u001b[0m\n",
      "\u001b[0;32m/usr/local/lib/python3.8/dist-packages/scipy/linalg/basic.py\u001b[0m in \u001b[0;36mpinvh\u001b[0;34m(a, atol, rtol, lower, return_rank, check_finite, cond, rcond)\u001b[0m\n\u001b[1;32m   1476\u001b[0m     \"\"\"\n\u001b[1;32m   1477\u001b[0m     \u001b[0ma\u001b[0m \u001b[0;34m=\u001b[0m \u001b[0m_asarray_validated\u001b[0m\u001b[0;34m(\u001b[0m\u001b[0ma\u001b[0m\u001b[0;34m,\u001b[0m \u001b[0mcheck_finite\u001b[0m\u001b[0;34m=\u001b[0m\u001b[0mcheck_finite\u001b[0m\u001b[0;34m)\u001b[0m\u001b[0;34m\u001b[0m\u001b[0;34m\u001b[0m\u001b[0m\n\u001b[0;32m-> 1478\u001b[0;31m     \u001b[0ms\u001b[0m\u001b[0;34m,\u001b[0m \u001b[0mu\u001b[0m \u001b[0;34m=\u001b[0m \u001b[0mdecomp\u001b[0m\u001b[0;34m.\u001b[0m\u001b[0meigh\u001b[0m\u001b[0;34m(\u001b[0m\u001b[0ma\u001b[0m\u001b[0;34m,\u001b[0m \u001b[0mlower\u001b[0m\u001b[0;34m=\u001b[0m\u001b[0mlower\u001b[0m\u001b[0;34m,\u001b[0m \u001b[0mcheck_finite\u001b[0m\u001b[0;34m=\u001b[0m\u001b[0;32mFalse\u001b[0m\u001b[0;34m)\u001b[0m\u001b[0;34m\u001b[0m\u001b[0;34m\u001b[0m\u001b[0m\n\u001b[0m\u001b[1;32m   1479\u001b[0m     \u001b[0mt\u001b[0m \u001b[0;34m=\u001b[0m \u001b[0mu\u001b[0m\u001b[0;34m.\u001b[0m\u001b[0mdtype\u001b[0m\u001b[0;34m.\u001b[0m\u001b[0mchar\u001b[0m\u001b[0;34m.\u001b[0m\u001b[0mlower\u001b[0m\u001b[0;34m(\u001b[0m\u001b[0;34m)\u001b[0m\u001b[0;34m\u001b[0m\u001b[0;34m\u001b[0m\u001b[0m\n\u001b[1;32m   1480\u001b[0m     \u001b[0mmaxS\u001b[0m \u001b[0;34m=\u001b[0m \u001b[0mnp\u001b[0m\u001b[0;34m.\u001b[0m\u001b[0mmax\u001b[0m\u001b[0;34m(\u001b[0m\u001b[0mnp\u001b[0m\u001b[0;34m.\u001b[0m\u001b[0mabs\u001b[0m\u001b[0;34m(\u001b[0m\u001b[0ms\u001b[0m\u001b[0;34m)\u001b[0m\u001b[0;34m)\u001b[0m\u001b[0;34m\u001b[0m\u001b[0;34m\u001b[0m\u001b[0m\n",
      "\u001b[0;32m/usr/local/lib/python3.8/dist-packages/scipy/linalg/decomp.py\u001b[0m in \u001b[0;36meigh\u001b[0;34m(a, b, lower, eigvals_only, overwrite_a, overwrite_b, turbo, eigvals, type, check_finite, subset_by_index, subset_by_value, driver)\u001b[0m\n\u001b[1;32m    543\u001b[0m \u001b[0;34m\u001b[0m\u001b[0m\n\u001b[1;32m    544\u001b[0m         \u001b[0mdrv_args\u001b[0m\u001b[0;34m.\u001b[0m\u001b[0mupdate\u001b[0m\u001b[0;34m(\u001b[0m\u001b[0;34m{\u001b[0m\u001b[0;34m'lower'\u001b[0m\u001b[0;34m:\u001b[0m \u001b[0mlower\u001b[0m\u001b[0;34m,\u001b[0m \u001b[0;34m'compute_v'\u001b[0m\u001b[0;34m:\u001b[0m \u001b[0;36m0\u001b[0m \u001b[0;32mif\u001b[0m \u001b[0m_job\u001b[0m \u001b[0;34m==\u001b[0m \u001b[0;34m\"N\"\u001b[0m \u001b[0;32melse\u001b[0m \u001b[0;36m1\u001b[0m\u001b[0;34m}\u001b[0m\u001b[0;34m)\u001b[0m\u001b[0;34m\u001b[0m\u001b[0;34m\u001b[0m\u001b[0m\n\u001b[0;32m--> 545\u001b[0;31m         \u001b[0mw\u001b[0m\u001b[0;34m,\u001b[0m \u001b[0mv\u001b[0m\u001b[0;34m,\u001b[0m \u001b[0;34m*\u001b[0m\u001b[0mother_args\u001b[0m\u001b[0;34m,\u001b[0m \u001b[0minfo\u001b[0m \u001b[0;34m=\u001b[0m \u001b[0mdrv\u001b[0m\u001b[0;34m(\u001b[0m\u001b[0ma\u001b[0m\u001b[0;34m=\u001b[0m\u001b[0ma1\u001b[0m\u001b[0;34m,\u001b[0m \u001b[0;34m**\u001b[0m\u001b[0mdrv_args\u001b[0m\u001b[0;34m,\u001b[0m \u001b[0;34m**\u001b[0m\u001b[0mlwork_args\u001b[0m\u001b[0;34m)\u001b[0m\u001b[0;34m\u001b[0m\u001b[0;34m\u001b[0m\u001b[0m\n\u001b[0m\u001b[1;32m    546\u001b[0m \u001b[0;34m\u001b[0m\u001b[0m\n\u001b[1;32m    547\u001b[0m     \u001b[0;32melse\u001b[0m\u001b[0;34m:\u001b[0m  \u001b[0;31m# Generalized problem\u001b[0m\u001b[0;34m\u001b[0m\u001b[0;34m\u001b[0m\u001b[0m\n",
      "\u001b[0;31mKeyboardInterrupt\u001b[0m: "
     ]
    }
   ],
   "source": [
    "w = np.zeros((250, 1000))\n",
    "for i in range(1000):\n",
    "    w[:, i] = df[:, i]\n",
    "x = w; s = np.dot(x.T, x) / 250\n",
    "fit = graphical_lasso(s, 0.75)\n",
    "print(np.sum(list(map(lambda x: x == 0, fit[1]))))\n",
    "y = pd.DataFrame(columns=[\"y\"]); z = pd.DataFrame(columns=[\"z\"])\n",
    "for i in range(999):\n",
    "    for j in range((i + 1), 1000):\n",
    "        if fit[1][i, j] != 0:\n",
    "            y = y.append(pd.DataFrame({\"y\": [i]}))\n",
    "            z = z.append(pd.DataFrame({\"z\": [j]}))\n",
    "y.index = np.arange(1, len(y) + 1)\n",
    "z.index = np.arange(1, len(z) + 1)\n",
    "edges = pd.concat([y, z], axis=1)\n",
    "edges.to_csv(\"edges.csv\")"
   ]
  },
  {
   "cell_type": "markdown",
   "metadata": {},
   "source": [
    "### 72"
   ]
  },
  {
   "cell_type": "code",
   "execution_count": 47,
   "metadata": {},
   "outputs": [],
   "source": [
    "df = pd.read_csv(\"breastcancer.csv\")\n",
    "df.drop(df.columns[len(df.columns) - 1], axis=1, inplace=True)\n",
    "df = df.values"
   ]
  },
  {
   "cell_type": "code",
   "execution_count": 48,
   "metadata": {},
   "outputs": [],
   "source": [
    "n = 250; p = 50\n",
    "w = np.zeros((n, p))\n",
    "for i in range(p):\n",
    "    w[:, i] = df[:, i]\n",
    "x = w[:, range(p)]; lambd = 0.1\n",
    "model = list()\n",
    "for j in range(p):\n",
    "    m2 = list(np.arange(j)); n2 = list(np.arange(j+1, p)); z2 = m2 + n2\n",
    "    model.append(ElasticNet(alpha=lambd, l1_ratio=1).fit(X=x[:, z2], y=x[:, j]))\n",
    "ad = np.zeros((p, p))\n",
    "for i in range(p):\n",
    "    for j in range(p - 1):\n",
    "        k = j\n",
    "        if j >= i:\n",
    "            k = j + 1\n",
    "        if model[i].coef_[j] != 0:\n",
    "            ad[i, k] = 1\n",
    "        else:\n",
    "            ad[i, k] = 0"
   ]
  },
  {
   "cell_type": "code",
   "execution_count": 57,
   "metadata": {},
   "outputs": [
    {
     "name": "stdout",
     "output_type": "stream",
     "text": [
      "[0, 0, 0, 0, 0, 0, 1, 1, 1, 1, 1, 1, 1, 1, 1, 2, 2, 3, 3, 3, 4, 4, 4, 4, 5, 5, 5, 5, 5, 6, 6, 6, 6, 7, 7, 8, 8, 8, 8, 8, 9, 10, 11, 11, 11, 11, 11, 12, 12, 12, 12, 13, 14, 15, 15, 15, 15, 15, 17, 17, 17, 17, 18, 18, 19, 19, 20, 20, 20, 21, 21, 21, 22, 22, 23, 23, 24, 24, 25, 25, 25, 26, 26, 26, 26, 27, 27, 27, 28, 28, 28, 28, 29, 29, 29, 30, 30, 31, 31, 32, 33, 34, 34, 36, 37, 37, 37, 37, 39, 41, 43, 44, 46] [11, 17, 23, 34, 39, 40, 4, 11, 22, 25, 26, 33, 34, 38, 40, 8, 18, 7, 16, 30, 17, 20, 30, 31, 14, 21, 23, 25, 30, 29, 30, 43, 47, 11, 16, 13, 18, 20, 23, 43, 17, 41, 17, 23, 31, 40, 48, 21, 30, 40, 44, 14, 30, 17, 26, 31, 40, 48, 23, 26, 34, 40, 19, 43, 43, 47, 23, 30, 37, 26, 34, 35, 31, 34, 34, 40, 44, 47, 38, 39, 49, 36, 39, 41, 48, 30, 31, 39, 29, 35, 44, 49, 30, 44, 46, 33, 38, 32, 48, 48, 35, 39, 40, 41, 38, 44, 45, 49, 40, 48, 47, 45, 47]\n",
      "[[0. 0. 0. ... 0. 0. 0.]\n",
      " [0. 0. 0. ... 0. 0. 0.]\n",
      " [0. 0. 0. ... 0. 0. 0.]\n",
      " ...\n",
      " [0. 0. 0. ... 0. 0. 0.]\n",
      " [0. 0. 0. ... 0. 0. 0.]\n",
      " [0. 0. 0. ... 0. 1. 0.]]\n"
     ]
    },
    {
     "ename": "AttributeError",
     "evalue": "Plotting not available; please install pycairo or cairocffi",
     "output_type": "error",
     "traceback": [
      "\u001b[0;31m---------------------------------------------------------------------------\u001b[0m",
      "\u001b[0;31mAttributeError\u001b[0m                            Traceback (most recent call last)",
      "\u001b[0;32m<ipython-input-57-f824d8277c8a>\u001b[0m in \u001b[0;36m<module>\u001b[0;34m\u001b[0m\n\u001b[1;32m     12\u001b[0m \u001b[0mprint\u001b[0m\u001b[0;34m(\u001b[0m\u001b[0mu\u001b[0m\u001b[0;34m,\u001b[0m \u001b[0mv\u001b[0m\u001b[0;34m)\u001b[0m\u001b[0;34m\u001b[0m\u001b[0;34m\u001b[0m\u001b[0m\n\u001b[1;32m     13\u001b[0m \u001b[0mprint\u001b[0m\u001b[0;34m(\u001b[0m\u001b[0mad\u001b[0m\u001b[0;34m)\u001b[0m\u001b[0;34m\u001b[0m\u001b[0;34m\u001b[0m\u001b[0m\n\u001b[0;32m---> 14\u001b[0;31m \u001b[0madj\u001b[0m\u001b[0;34m(\u001b[0m\u001b[0mad\u001b[0m\u001b[0;34m)\u001b[0m\u001b[0;34m\u001b[0m\u001b[0;34m\u001b[0m\u001b[0m\n\u001b[0m",
      "\u001b[0;32m<ipython-input-44-44e5105fd644>\u001b[0m in \u001b[0;36madj\u001b[0;34m(mat)\u001b[0m\n\u001b[1;32m      9\u001b[0m     \u001b[0mg\u001b[0m \u001b[0;34m=\u001b[0m \u001b[0migraph\u001b[0m\u001b[0;34m.\u001b[0m\u001b[0mGraph\u001b[0m\u001b[0;34m.\u001b[0m\u001b[0mAdjacency\u001b[0m\u001b[0;34m(\u001b[0m\u001b[0mad\u001b[0m\u001b[0;34m.\u001b[0m\u001b[0mtolist\u001b[0m\u001b[0;34m(\u001b[0m\u001b[0;34m)\u001b[0m\u001b[0;34m,\u001b[0m \u001b[0mmode\u001b[0m\u001b[0;34m=\u001b[0m\u001b[0migraph\u001b[0m\u001b[0;34m.\u001b[0m\u001b[0mADJ_MAX\u001b[0m\u001b[0;34m)\u001b[0m\u001b[0;34m\u001b[0m\u001b[0;34m\u001b[0m\u001b[0m\n\u001b[1;32m     10\u001b[0m     \u001b[0mg\u001b[0m\u001b[0;34m.\u001b[0m\u001b[0mvs\u001b[0m\u001b[0;34m[\u001b[0m\u001b[0;34m\"label\"\u001b[0m\u001b[0;34m]\u001b[0m \u001b[0;34m=\u001b[0m \u001b[0mlist\u001b[0m\u001b[0;34m(\u001b[0m\u001b[0mrange\u001b[0m\u001b[0;34m(\u001b[0m\u001b[0mg\u001b[0m\u001b[0;34m.\u001b[0m\u001b[0mvcount\u001b[0m\u001b[0;34m(\u001b[0m\u001b[0;34m)\u001b[0m\u001b[0;34m)\u001b[0m\u001b[0;34m)\u001b[0m\u001b[0;34m\u001b[0m\u001b[0;34m\u001b[0m\u001b[0m\n\u001b[0;32m---> 11\u001b[0;31m     \u001b[0;32mreturn\u001b[0m \u001b[0migraph\u001b[0m\u001b[0;34m.\u001b[0m\u001b[0mplot\u001b[0m\u001b[0;34m(\u001b[0m\u001b[0mg\u001b[0m\u001b[0;34m,\u001b[0m \u001b[0mbbox\u001b[0m\u001b[0;34m=\u001b[0m\u001b[0;34m(\u001b[0m\u001b[0;36m300\u001b[0m\u001b[0;34m,\u001b[0m \u001b[0;36m300\u001b[0m\u001b[0;34m)\u001b[0m\u001b[0;34m)\u001b[0m\u001b[0;34m\u001b[0m\u001b[0;34m\u001b[0m\u001b[0m\n\u001b[0m",
      "\u001b[0;32m/usr/local/lib/python3.8/dist-packages/igraph/drawing/__init__.py\u001b[0m in \u001b[0;36mplot\u001b[0;34m(obj, target, bbox, *args, **kwds)\u001b[0m\n\u001b[1;32m    484\u001b[0m         \u001b[0mbbox\u001b[0m \u001b[0;34m=\u001b[0m \u001b[0mBoundingBox\u001b[0m\u001b[0;34m(\u001b[0m\u001b[0mbbox\u001b[0m\u001b[0;34m)\u001b[0m\u001b[0;34m\u001b[0m\u001b[0;34m\u001b[0m\u001b[0m\n\u001b[1;32m    485\u001b[0m \u001b[0;34m\u001b[0m\u001b[0m\n\u001b[0;32m--> 486\u001b[0;31m     \u001b[0mresult\u001b[0m \u001b[0;34m=\u001b[0m \u001b[0mPlot\u001b[0m\u001b[0;34m(\u001b[0m\u001b[0mtarget\u001b[0m\u001b[0;34m,\u001b[0m \u001b[0mbbox\u001b[0m\u001b[0;34m,\u001b[0m \u001b[0mbackground\u001b[0m\u001b[0;34m=\u001b[0m\u001b[0mkwds\u001b[0m\u001b[0;34m.\u001b[0m\u001b[0mget\u001b[0m\u001b[0;34m(\u001b[0m\u001b[0;34m\"background\"\u001b[0m\u001b[0;34m,\u001b[0m \u001b[0;34m\"white\"\u001b[0m\u001b[0;34m)\u001b[0m\u001b[0;34m)\u001b[0m\u001b[0;34m\u001b[0m\u001b[0;34m\u001b[0m\u001b[0m\n\u001b[0m\u001b[1;32m    487\u001b[0m \u001b[0;34m\u001b[0m\u001b[0m\n\u001b[1;32m    488\u001b[0m     \u001b[0;32mif\u001b[0m \u001b[0;34m\"margin\"\u001b[0m \u001b[0;32min\u001b[0m \u001b[0mkwds\u001b[0m\u001b[0;34m:\u001b[0m\u001b[0;34m\u001b[0m\u001b[0;34m\u001b[0m\u001b[0m\n",
      "\u001b[0;32m/usr/local/lib/python3.8/dist-packages/igraph/drawing/__init__.py\u001b[0m in \u001b[0;36m__init__\u001b[0;34m(self, target, bbox, palette, background)\u001b[0m\n\u001b[1;32m    119\u001b[0m         \"\"\"\n\u001b[1;32m    120\u001b[0m         \u001b[0mself\u001b[0m\u001b[0;34m.\u001b[0m\u001b[0m_filename\u001b[0m \u001b[0;34m=\u001b[0m \u001b[0;32mNone\u001b[0m\u001b[0;34m\u001b[0m\u001b[0;34m\u001b[0m\u001b[0m\n\u001b[0;32m--> 121\u001b[0;31m         \u001b[0mself\u001b[0m\u001b[0;34m.\u001b[0m\u001b[0m_surface_was_created\u001b[0m \u001b[0;34m=\u001b[0m \u001b[0;32mnot\u001b[0m \u001b[0misinstance\u001b[0m\u001b[0;34m(\u001b[0m\u001b[0mtarget\u001b[0m\u001b[0;34m,\u001b[0m \u001b[0mcairo\u001b[0m\u001b[0;34m.\u001b[0m\u001b[0mSurface\u001b[0m\u001b[0;34m)\u001b[0m\u001b[0;34m\u001b[0m\u001b[0;34m\u001b[0m\u001b[0m\n\u001b[0m\u001b[1;32m    122\u001b[0m         \u001b[0mself\u001b[0m\u001b[0;34m.\u001b[0m\u001b[0m_need_tmpfile\u001b[0m \u001b[0;34m=\u001b[0m \u001b[0;32mFalse\u001b[0m\u001b[0;34m\u001b[0m\u001b[0;34m\u001b[0m\u001b[0m\n\u001b[1;32m    123\u001b[0m \u001b[0;34m\u001b[0m\u001b[0m\n",
      "\u001b[0;32m/usr/local/lib/python3.8/dist-packages/igraph/drawing/utils.py\u001b[0m in \u001b[0;36m__getattr__\u001b[0;34m(self, _)\u001b[0m\n\u001b[1;32m    412\u001b[0m \u001b[0;34m\u001b[0m\u001b[0m\n\u001b[1;32m    413\u001b[0m     \u001b[0;32mdef\u001b[0m \u001b[0m__getattr__\u001b[0m\u001b[0;34m(\u001b[0m\u001b[0mself\u001b[0m\u001b[0;34m,\u001b[0m \u001b[0m_\u001b[0m\u001b[0;34m)\u001b[0m\u001b[0;34m:\u001b[0m\u001b[0;34m\u001b[0m\u001b[0;34m\u001b[0m\u001b[0m\n\u001b[0;32m--> 414\u001b[0;31m         \u001b[0;32mraise\u001b[0m \u001b[0mAttributeError\u001b[0m\u001b[0;34m(\u001b[0m\u001b[0mself\u001b[0m\u001b[0;34m.\u001b[0m\u001b[0m_message\u001b[0m\u001b[0;34m)\u001b[0m\u001b[0;34m\u001b[0m\u001b[0;34m\u001b[0m\u001b[0m\n\u001b[0m\u001b[1;32m    415\u001b[0m \u001b[0;34m\u001b[0m\u001b[0m\n\u001b[1;32m    416\u001b[0m     \u001b[0;32mdef\u001b[0m \u001b[0m__call__\u001b[0m\u001b[0;34m(\u001b[0m\u001b[0mself\u001b[0m\u001b[0;34m,\u001b[0m \u001b[0m_\u001b[0m\u001b[0;34m)\u001b[0m\u001b[0;34m:\u001b[0m\u001b[0;34m\u001b[0m\u001b[0;34m\u001b[0m\u001b[0m\n",
      "\u001b[0;31mAttributeError\u001b[0m: Plotting not available; please install pycairo or cairocffi"
     ]
    }
   ],
   "source": [
    "# ANDの場合\n",
    "for i in range(p - 1):\n",
    "    for j in range(i + 1, p):\n",
    "        if ad[i, j] != ad[i, j]:\n",
    "            ad[i, j] = 0; ad[j, i] = 0\n",
    "u = list(); v = list()\n",
    "for i in range(p - 1):\n",
    "    for j in range(i + 1, p):\n",
    "        if ad[i, j] == 1:\n",
    "            u.append(i)\n",
    "            v.append(j)\n",
    "print(u, v)\n",
    "print(ad)\n",
    "adj(ad)"
   ]
  },
  {
   "cell_type": "code",
   "execution_count": 56,
   "metadata": {},
   "outputs": [
    {
     "name": "stdout",
     "output_type": "stream",
     "text": [
      "[[0.         0.         0.         0.03116839 0.         0.\n",
      "  0.         0.         0.         0.         0.03749406 0.\n",
      "  0.         0.         0.         0.         0.         0.\n",
      "  0.         0.         0.         0.03077982 0.         0.\n",
      "  0.05842514 0.00050559 0.         0.         0.         0.\n",
      "  0.         0.         0.14072457 0.13816426 0.         0.\n",
      "  0.         0.06911837 0.         0.1585439  0.         0.\n",
      "  0.         0.         0.         0.         0.         0.\n",
      "  0.        ]]\n",
      "[[0. 0. 0. ... 0. 0. 0.]\n",
      " [0. 0. 0. ... 0. 0. 0.]\n",
      " [0. 0. 0. ... 0. 0. 0.]\n",
      " ...\n",
      " [0. 0. 0. ... 0. 0. 0.]\n",
      " [0. 0. 0. ... 0. 0. 0.]\n",
      " [0. 0. 0. ... 0. 1. 0.]]\n",
      "210.0\n"
     ]
    },
    {
     "ename": "AttributeError",
     "evalue": "Plotting not available; please install pycairo or cairocffi",
     "output_type": "error",
     "traceback": [
      "\u001b[0;31m---------------------------------------------------------------------------\u001b[0m",
      "\u001b[0;31mAttributeError\u001b[0m                            Traceback (most recent call last)",
      "\u001b[0;32m<ipython-input-56-28da75affb63>\u001b[0m in \u001b[0;36m<module>\u001b[0;34m\u001b[0m\n\u001b[1;32m     27\u001b[0m             \u001b[0mad\u001b[0m\u001b[0;34m[\u001b[0m\u001b[0mi\u001b[0m\u001b[0;34m,\u001b[0m \u001b[0mj\u001b[0m\u001b[0;34m]\u001b[0m \u001b[0;34m=\u001b[0m \u001b[0;36m0\u001b[0m\u001b[0;34m;\u001b[0m \u001b[0mad\u001b[0m\u001b[0;34m[\u001b[0m\u001b[0mj\u001b[0m\u001b[0;34m,\u001b[0m \u001b[0mi\u001b[0m\u001b[0;34m]\u001b[0m \u001b[0;34m=\u001b[0m \u001b[0;36m0\u001b[0m\u001b[0;34m\u001b[0m\u001b[0;34m\u001b[0m\u001b[0m\n\u001b[1;32m     28\u001b[0m \u001b[0mprint\u001b[0m\u001b[0;34m(\u001b[0m\u001b[0mad\u001b[0m\u001b[0;34m)\u001b[0m\u001b[0;34m\u001b[0m\u001b[0;34m\u001b[0m\u001b[0m\n\u001b[0;32m---> 29\u001b[0;31m \u001b[0mprint\u001b[0m\u001b[0;34m(\u001b[0m\u001b[0mnp\u001b[0m\u001b[0;34m.\u001b[0m\u001b[0msum\u001b[0m\u001b[0;34m(\u001b[0m\u001b[0mad\u001b[0m\u001b[0;34m)\u001b[0m\u001b[0;34m)\u001b[0m\u001b[0;34m;\u001b[0m \u001b[0madj\u001b[0m\u001b[0;34m(\u001b[0m\u001b[0mad\u001b[0m\u001b[0;34m)\u001b[0m\u001b[0;34m\u001b[0m\u001b[0;34m\u001b[0m\u001b[0m\n\u001b[0m",
      "\u001b[0;32m<ipython-input-44-44e5105fd644>\u001b[0m in \u001b[0;36madj\u001b[0;34m(mat)\u001b[0m\n\u001b[1;32m      9\u001b[0m     \u001b[0mg\u001b[0m \u001b[0;34m=\u001b[0m \u001b[0migraph\u001b[0m\u001b[0;34m.\u001b[0m\u001b[0mGraph\u001b[0m\u001b[0;34m.\u001b[0m\u001b[0mAdjacency\u001b[0m\u001b[0;34m(\u001b[0m\u001b[0mad\u001b[0m\u001b[0;34m.\u001b[0m\u001b[0mtolist\u001b[0m\u001b[0;34m(\u001b[0m\u001b[0;34m)\u001b[0m\u001b[0;34m,\u001b[0m \u001b[0mmode\u001b[0m\u001b[0;34m=\u001b[0m\u001b[0migraph\u001b[0m\u001b[0;34m.\u001b[0m\u001b[0mADJ_MAX\u001b[0m\u001b[0;34m)\u001b[0m\u001b[0;34m\u001b[0m\u001b[0;34m\u001b[0m\u001b[0m\n\u001b[1;32m     10\u001b[0m     \u001b[0mg\u001b[0m\u001b[0;34m.\u001b[0m\u001b[0mvs\u001b[0m\u001b[0;34m[\u001b[0m\u001b[0;34m\"label\"\u001b[0m\u001b[0;34m]\u001b[0m \u001b[0;34m=\u001b[0m \u001b[0mlist\u001b[0m\u001b[0;34m(\u001b[0m\u001b[0mrange\u001b[0m\u001b[0;34m(\u001b[0m\u001b[0mg\u001b[0m\u001b[0;34m.\u001b[0m\u001b[0mvcount\u001b[0m\u001b[0;34m(\u001b[0m\u001b[0;34m)\u001b[0m\u001b[0;34m)\u001b[0m\u001b[0;34m)\u001b[0m\u001b[0;34m\u001b[0m\u001b[0;34m\u001b[0m\u001b[0m\n\u001b[0;32m---> 11\u001b[0;31m     \u001b[0;32mreturn\u001b[0m \u001b[0migraph\u001b[0m\u001b[0;34m.\u001b[0m\u001b[0mplot\u001b[0m\u001b[0;34m(\u001b[0m\u001b[0mg\u001b[0m\u001b[0;34m,\u001b[0m \u001b[0mbbox\u001b[0m\u001b[0;34m=\u001b[0m\u001b[0;34m(\u001b[0m\u001b[0;36m300\u001b[0m\u001b[0;34m,\u001b[0m \u001b[0;36m300\u001b[0m\u001b[0;34m)\u001b[0m\u001b[0;34m)\u001b[0m\u001b[0;34m\u001b[0m\u001b[0;34m\u001b[0m\u001b[0m\n\u001b[0m",
      "\u001b[0;32m/usr/local/lib/python3.8/dist-packages/igraph/drawing/__init__.py\u001b[0m in \u001b[0;36mplot\u001b[0;34m(obj, target, bbox, *args, **kwds)\u001b[0m\n\u001b[1;32m    484\u001b[0m         \u001b[0mbbox\u001b[0m \u001b[0;34m=\u001b[0m \u001b[0mBoundingBox\u001b[0m\u001b[0;34m(\u001b[0m\u001b[0mbbox\u001b[0m\u001b[0;34m)\u001b[0m\u001b[0;34m\u001b[0m\u001b[0;34m\u001b[0m\u001b[0m\n\u001b[1;32m    485\u001b[0m \u001b[0;34m\u001b[0m\u001b[0m\n\u001b[0;32m--> 486\u001b[0;31m     \u001b[0mresult\u001b[0m \u001b[0;34m=\u001b[0m \u001b[0mPlot\u001b[0m\u001b[0;34m(\u001b[0m\u001b[0mtarget\u001b[0m\u001b[0;34m,\u001b[0m \u001b[0mbbox\u001b[0m\u001b[0;34m,\u001b[0m \u001b[0mbackground\u001b[0m\u001b[0;34m=\u001b[0m\u001b[0mkwds\u001b[0m\u001b[0;34m.\u001b[0m\u001b[0mget\u001b[0m\u001b[0;34m(\u001b[0m\u001b[0;34m\"background\"\u001b[0m\u001b[0;34m,\u001b[0m \u001b[0;34m\"white\"\u001b[0m\u001b[0;34m)\u001b[0m\u001b[0;34m)\u001b[0m\u001b[0;34m\u001b[0m\u001b[0;34m\u001b[0m\u001b[0m\n\u001b[0m\u001b[1;32m    487\u001b[0m \u001b[0;34m\u001b[0m\u001b[0m\n\u001b[1;32m    488\u001b[0m     \u001b[0;32mif\u001b[0m \u001b[0;34m\"margin\"\u001b[0m \u001b[0;32min\u001b[0m \u001b[0mkwds\u001b[0m\u001b[0;34m:\u001b[0m\u001b[0;34m\u001b[0m\u001b[0;34m\u001b[0m\u001b[0m\n",
      "\u001b[0;32m/usr/local/lib/python3.8/dist-packages/igraph/drawing/__init__.py\u001b[0m in \u001b[0;36m__init__\u001b[0;34m(self, target, bbox, palette, background)\u001b[0m\n\u001b[1;32m    119\u001b[0m         \"\"\"\n\u001b[1;32m    120\u001b[0m         \u001b[0mself\u001b[0m\u001b[0;34m.\u001b[0m\u001b[0m_filename\u001b[0m \u001b[0;34m=\u001b[0m \u001b[0;32mNone\u001b[0m\u001b[0;34m\u001b[0m\u001b[0;34m\u001b[0m\u001b[0m\n\u001b[0;32m--> 121\u001b[0;31m         \u001b[0mself\u001b[0m\u001b[0;34m.\u001b[0m\u001b[0m_surface_was_created\u001b[0m \u001b[0;34m=\u001b[0m \u001b[0;32mnot\u001b[0m \u001b[0misinstance\u001b[0m\u001b[0;34m(\u001b[0m\u001b[0mtarget\u001b[0m\u001b[0;34m,\u001b[0m \u001b[0mcairo\u001b[0m\u001b[0;34m.\u001b[0m\u001b[0mSurface\u001b[0m\u001b[0;34m)\u001b[0m\u001b[0;34m\u001b[0m\u001b[0;34m\u001b[0m\u001b[0m\n\u001b[0m\u001b[1;32m    122\u001b[0m         \u001b[0mself\u001b[0m\u001b[0;34m.\u001b[0m\u001b[0m_need_tmpfile\u001b[0m \u001b[0;34m=\u001b[0m \u001b[0;32mFalse\u001b[0m\u001b[0;34m\u001b[0m\u001b[0;34m\u001b[0m\u001b[0m\n\u001b[1;32m    123\u001b[0m \u001b[0;34m\u001b[0m\u001b[0m\n",
      "\u001b[0;32m/usr/local/lib/python3.8/dist-packages/igraph/drawing/utils.py\u001b[0m in \u001b[0;36m__getattr__\u001b[0;34m(self, _)\u001b[0m\n\u001b[1;32m    412\u001b[0m \u001b[0;34m\u001b[0m\u001b[0m\n\u001b[1;32m    413\u001b[0m     \u001b[0;32mdef\u001b[0m \u001b[0m__getattr__\u001b[0m\u001b[0;34m(\u001b[0m\u001b[0mself\u001b[0m\u001b[0;34m,\u001b[0m \u001b[0m_\u001b[0m\u001b[0;34m)\u001b[0m\u001b[0;34m:\u001b[0m\u001b[0;34m\u001b[0m\u001b[0;34m\u001b[0m\u001b[0m\n\u001b[0;32m--> 414\u001b[0;31m         \u001b[0;32mraise\u001b[0m \u001b[0mAttributeError\u001b[0m\u001b[0;34m(\u001b[0m\u001b[0mself\u001b[0m\u001b[0;34m.\u001b[0m\u001b[0m_message\u001b[0m\u001b[0;34m)\u001b[0m\u001b[0;34m\u001b[0m\u001b[0;34m\u001b[0m\u001b[0m\n\u001b[0m\u001b[1;32m    415\u001b[0m \u001b[0;34m\u001b[0m\u001b[0m\n\u001b[1;32m    416\u001b[0m     \u001b[0;32mdef\u001b[0m \u001b[0m__call__\u001b[0m\u001b[0;34m(\u001b[0m\u001b[0mself\u001b[0m\u001b[0;34m,\u001b[0m \u001b[0m_\u001b[0m\u001b[0;34m)\u001b[0m\u001b[0;34m:\u001b[0m\u001b[0;34m\u001b[0m\u001b[0;34m\u001b[0m\u001b[0m\n",
      "\u001b[0;31mAttributeError\u001b[0m: Plotting not available; please install pycairo or cairocffi"
     ]
    }
   ],
   "source": [
    "w = np.zeros((250, 1000))\n",
    "for i in range(1000):\n",
    "    w[:, i] = df[:, i]\n",
    "w = (np.sign(w) + 1) / 2\n",
    "p = 50; x = w[:, range(p)]; lambd = 0.15\n",
    "x[x == 0] = -1\n",
    "model = list()\n",
    "for j in range(p):\n",
    "    m3 = list(np.arange(j)); n3 = list(np.arange(j+1, p)); z3 = m3 + n3\n",
    "    model.append(LogisticRegression(\n",
    "        C=(1 / (250*lambd)), penalty=\"l1\", solver=\"liblinear\",\n",
    "        fit_intercept=True).fit(X=x[:, z3], y=x[:, j]))\n",
    "print(model[1].coef_)\n",
    "ad = np.zeros((p, p))\n",
    "for i in range(p):\n",
    "    for j in range(p - 1):\n",
    "        k = j\n",
    "        if j >= i:\n",
    "            k = j + 1\n",
    "        if model[i].coef_[:, j] != 0:\n",
    "            ad[i, k] = 1\n",
    "        else:\n",
    "            ad[i, k] = 0\n",
    "for i in range(p - 1):\n",
    "    for j in range(i + 1, p):\n",
    "        if ad[i, j] != ad[i, j]:\n",
    "            ad[i, j] = 0; ad[j, i] = 0\n",
    "print(ad)\n",
    "print(np.sum(ad)); adj(ad)"
   ]
  },
  {
   "cell_type": "markdown",
   "metadata": {},
   "source": [
    "### 74"
   ]
  },
  {
   "cell_type": "code",
   "execution_count": 58,
   "metadata": {},
   "outputs": [],
   "source": [
    "def graph_fused(y=[], lambd1=None, lambd2=None):\n",
    "    K = len(y)\n",
    "    if K == 1: theta = y\n",
    "    elif K == 2: theta = b_fused(y, lambd2)\n",
    "    else:\n",
    "        y = np.array(y)\n",
    "        L = K * (K - 1) / 2; D = np.zeros((int(L), K))\n",
    "        k = 0\n",
    "        for i in range(K - 1):\n",
    "            for j in range(i + 1, K):\n",
    "                D[k, i] = 1; D[k, j] = -1; k = k + 1\n",
    "        theta = fused_2(y, D, lambd2)\n",
    "    theta = soft_th(lambd1, theta)\n",
    "    return theta"
   ]
  },
  {
   "cell_type": "code",
   "execution_count": 60,
   "metadata": {},
   "outputs": [],
   "source": [
    "# Joint Graphical Lasso\n",
    "def jgl(X, lambd1, lambd2):\n",
    "    K = len(X); p = np.array(X[1]).shape[1]; n = np.zeros(K); S = list()\n",
    "    for k in range(K):\n",
    "        n[k] = X[k].shape[0]; S.append(np.dot(X[k].T, X[k]) / n[k])\n",
    "    rho = 1; lambd1 = lambd1 / rho; lambd2 = lambd2 / rho\n",
    "    Theta = [0] * K\n",
    "    for k in range(K): Theta[k] = np.diag([1] * p)\n",
    "    Theta_old = [0] * K\n",
    "    for k in range(K): Theta_old[k] = np.diag(np.random.normal(size=p))\n",
    "    U = [0] * K\n",
    "    for k in range(K): U[k] = np.zeros((p, p))\n",
    "    Z = [0] * K\n",
    "    for k in range(K): Z[k] = np.zeros((p, p))\n",
    "    epsilon = 0; epsilon_old = 1; h = 0\n",
    "    while np.abs(epsilon - epsilon_old) > 0.0001 * epsilon_old:\n",
    "        h = h + 1\n",
    "        Theta_old = c.deepcopy(Theta); epsilon_old = epsilon\n",
    "        # (a)に関する更新\n",
    "        for k in range(K):\n",
    "            mat = S[k] - rho * Z[k] / n[k] + rho * U[k] / n[k]\n",
    "            u, s, v = np.linalg.svd(mat)\n",
    "            DD = n[k] / (2 * rho) * (-s + np.sqrt(np.square(s) + 4 * rho / n[k]))\n",
    "            Theta[k] = np.dot(np.dot(v.T, np.diag(DD)), v)\n",
    "        # (b)に関する更新\n",
    "        for i in range(p):\n",
    "            for j in range(p):\n",
    "                A = list()\n",
    "                for k in range(K): A.append(Theta[k][i, j] + U[k][i, j])\n",
    "                if i == j: B = graph_fused(A, 0, lambd2)\n",
    "                else: B = graph_fused(A, lambd1, lambd2)\n",
    "                for k in range(K): Z[k][i, j] = B[k]\n",
    "        # (c)に関する更新\n",
    "        for k in range(K):\n",
    "            U[k] = U[k] + Theta[k] - Z[k]\n",
    "        # 収束したかどうかの検査\n",
    "        epsilon = 0\n",
    "        for k in range(K):\n",
    "            epsilon_new = np.max(np.abs(Theta[k] - Theta_old[k]))\n",
    "            if epsilon_new > epsilon: epsilon = epsilon_new\n",
    "    print(\"epsilon:\", epsilon)\n",
    "    print(\"M:\", np.abs(epsilon - epsilon_old))\n",
    "    print(\"epsilon_old * 0.0001:\", epsilon_old * 0.0001)\n",
    "    print(\"The number of while loop:\", h)\n",
    "    return Z"
   ]
  },
  {
   "cell_type": "markdown",
   "metadata": {},
   "source": [
    "### 75"
   ]
  },
  {
   "cell_type": "code",
   "execution_count": 65,
   "metadata": {},
   "outputs": [],
   "source": [
    "# Joint Graphical Lasso\n",
    "def jgl(X, lambd1, lambd2):\n",
    "    K = len(X); p = np.array(X[1]).shape[1]; n = np.zeros(K); S = list()\n",
    "    for k in range(K):\n",
    "        n[k] = X[k].shape[0]; S.append(np.dot(X[k].T, X[k]) / n[k])\n",
    "    rho = 1; lambd1 = lambd1 / rho; lambd2 = lambd2 / rho\n",
    "    Theta = [0] * K\n",
    "    for k in range(K): Theta[k] = np.diag([1] * p)\n",
    "    Theta_old = [0] * K\n",
    "    for k in range(K): Theta_old[k] = np.diag(np.random.normal(size=p))\n",
    "    U = [0] * K\n",
    "    for k in range(K): U[k] = np.zeros((p, p))\n",
    "    Z = [0] * K\n",
    "    for k in range(K): Z[k] = np.zeros((p, p))\n",
    "    epsilon = 0; epsilon_old = 1; h = 0\n",
    "    while np.abs(epsilon - epsilon_old) > 0.0001 * epsilon_old:\n",
    "        h = h + 1\n",
    "        Theta_old = c.deepcopy(Theta); epsilon_old = epsilon\n",
    "        # (a)に関する更新\n",
    "        for k in range(K):\n",
    "            mat = S[k] - rho * Z[k] / n[k] + rho * U[k] / n[k]\n",
    "            u, s, v = np.linalg.svd(mat)\n",
    "            DD = n[k] / (2 * rho) * (-s + np.sqrt(np.square(s) + 4 * rho / n[k]))\n",
    "            Theta[k] = np.dot(np.dot(v.T, np.diag(DD)), v)\n",
    "        # (b)に関する更新\n",
    "        for i in range(p):\n",
    "            for j in range(p):\n",
    "                A = list()\n",
    "                for k in range(K): A.append(Theta[k][i, j] + U[k][i, j])\n",
    "                if i == j:\n",
    "                    B = A\n",
    "                else:\n",
    "                    B = soft_th(lambd1 / rho, A) * np.max(\n",
    "                        1 - lambd2 / rho / np.sqrt(\n",
    "                            np.linalg.norm(soft_th(lambd1 / rho, A), 2) ** 2), 0)\n",
    "                for k in range(K):\n",
    "                    Z[k][i, j] = B[k]\n",
    "        # (c)に関する更新\n",
    "        for k in range(K):\n",
    "            U[k] = U[k] + Theta[k] - Z[k]\n",
    "        # 収束したかどうかの検査\n",
    "        epsilon = 0\n",
    "        for k in range(K):\n",
    "            epsilon_new = np.max(np.abs(Theta[k] - Theta_old[k]))\n",
    "            if epsilon_new > epsilon: epsilon = epsilon_new\n",
    "    print(\"epsilon:\", epsilon)\n",
    "    print(\"M:\", np.abs(epsilon - epsilon_old))\n",
    "    print(\"epsilon_old * 0.0001:\", epsilon_old * 0.0001)\n",
    "    print(\"The number of while loop:\", h)\n",
    "    return Z"
   ]
  },
  {
   "cell_type": "code",
   "execution_count": null,
   "metadata": {},
   "outputs": [],
   "source": []
  }
 ],
 "metadata": {
  "kernelspec": {
   "display_name": "Python 3",
   "language": "python",
   "name": "python3"
  },
  "language_info": {
   "codemirror_mode": {
    "name": "ipython",
    "version": 3
   },
   "file_extension": ".py",
   "mimetype": "text/x-python",
   "name": "python",
   "nbconvert_exporter": "python",
   "pygments_lexer": "ipython3",
   "version": "3.8.5"
  }
 },
 "nbformat": 4,
 "nbformat_minor": 4
}
