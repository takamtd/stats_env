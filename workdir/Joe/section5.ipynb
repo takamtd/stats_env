{
 "cells": [
  {
   "cell_type": "markdown",
   "metadata": {},
   "source": [
    "# 5. グラフィカルモデル"
   ]
  },
  {
   "cell_type": "code",
   "execution_count": 5,
   "metadata": {},
   "outputs": [],
   "source": [
    "import copy\n",
    "import japanize_matplotlib\n",
    "%matplotlib inline\n",
    "import matplotlib.pyplot as plt\n",
    "import numpy as np\n",
    "import scipy\n",
    "from matplotlib.pyplot import imshow\n",
    "from numpy.random import randn\n",
    "from scipy import stats"
   ]
  },
  {
   "cell_type": "markdown",
   "metadata": {},
   "source": [
    "**第4章より**"
   ]
  },
  {
   "cell_type": "code",
   "execution_count": 6,
   "metadata": {},
   "outputs": [],
   "source": [
    "def fused_dual(y, D):\n",
    "    m = D.shape[0]\n",
    "    lambda_seq = np.zeros(m)\n",
    "    s = np.zeros(m)\n",
    "    alpha = np.zeros((m, m))\n",
    "    alpha[0, :] = np.linalg.pinv(D @ D.T) @ D @ y\n",
    "    for j in range(m):\n",
    "        if np.abs(alpha[0, j]) > lambda_seq[0]:\n",
    "            lambda_seq[0] = np.abs(alpha[0, j])\n",
    "            index = [j]\n",
    "            if alpha[0, j] > 0:\n",
    "                s[j] = 1\n",
    "            else:\n",
    "                s[j] = -1\n",
    "    f_s = list(range(m))\n",
    "    for k in range(1, m):\n",
    "        sub_s = list(set(f_s) - set(index))\n",
    "        U = np.linalg.pinv(D[sub_s, :] @ D[sub_s, :].T)\n",
    "        V = D[sub_s, :] @ D[index, :].T\n",
    "        u = U @ D[sub_s, :] @ y\n",
    "        v = U @ V @ s[index]\n",
    "        t = u / (v+1)\n",
    "        for i in range(0, m-k):\n",
    "            if t[i] > lambda_seq[k]:\n",
    "                lambda_seq[k] = t[i]\n",
    "                h = i\n",
    "                r = 1\n",
    "        t = u / (v-1)\n",
    "        for i in range(0, m-k):\n",
    "            if t[i] > lambda_seq[k]:\n",
    "                lambda_seq[k] = t[i]\n",
    "                h = i\n",
    "                r = -1\n",
    "        alpha[k, index] = lambda_seq[k] * s[index]\n",
    "        alpha[k, sub_s] = u - lambda_seq[k] * v\n",
    "        h = sub_s[h]\n",
    "        index.append(h)\n",
    "        if r == 1:\n",
    "            s[h] = 1\n",
    "        else:\n",
    "            s[h] = -1\n",
    "    return [alpha, lambda_seq]"
   ]
  },
  {
   "cell_type": "code",
   "execution_count": 7,
   "metadata": {},
   "outputs": [],
   "source": [
    "def fused_prime(y, D):\n",
    "    alpha, lambda_seq = fused_dual(y, D)\n",
    "    m = D.shape[0]\n",
    "    return [np.tile(y, (m, 1)).T - D.T @ alpha.T, lambda_seq]"
   ]
  },
  {
   "cell_type": "markdown",
   "metadata": {},
   "source": [
    "## 5.1　グラフィカルモデル"
   ]
  },
  {
   "cell_type": "markdown",
   "metadata": {},
   "source": [
    "## 5.2　グラフィカルLasso"
   ]
  },
  {
   "cell_type": "code",
   "execution_count": 8,
   "metadata": {},
   "outputs": [],
   "source": [
    "import copy as c"
   ]
  },
  {
   "cell_type": "code",
   "execution_count": 9,
   "metadata": {},
   "outputs": [],
   "source": [
    "def inner_prod(x, y):\n",
    "    return np.dot(x, y)"
   ]
  },
  {
   "cell_type": "code",
   "execution_count": 10,
   "metadata": {},
   "outputs": [],
   "source": [
    "def soft_th(lambd, x):\n",
    "    return np.sign(x) * np.maximum(np.abs(x) - lambd, 0)"
   ]
  },
  {
   "cell_type": "code",
   "execution_count": 11,
   "metadata": {},
   "outputs": [],
   "source": [
    "def graph_lasso(s, lambd=0):\n",
    "    s = np.array(s)\n",
    "    W = s; p = s.shape[1]; beta = np.zeros((p-1, p)); w = s.shape[0]\n",
    "    beta_out = beta; eps_out = 1\n",
    "    while eps_out > 0.01:\n",
    "        for j in range(p):\n",
    "            a = np.delete(np.delete(W, j, 0), j, 1); b = np.delete(s, j, 0)[:, j]\n",
    "            beta_in = beta[:, j]; eps_in = 1\n",
    "            while eps_in > 0.01:\n",
    "                for h in range(p - 1):\n",
    "                    cc = b[h] - inner_prod(np.delete(a, h, 1)[h, :],\n",
    "                                           np.delete(beta, h, 0)[:, j])\n",
    "                    beta[h, j] = soft_th(lambd, cc) / a[h, h]\n",
    "                eps_in = np.max(beta[:, j] - beta_in); beta_in = beta[:, j]\n",
    "            m = list(np.arange(j)); n = list(np.arange(j+1, w)); z = m + n\n",
    "            W[z, j] = np.dot(a, beta[:, j])\n",
    "        eps_out = np.max(beta - beta_out); beta_out = beta\n",
    "    theta = np.zeros((p, p))\n",
    "    for j in range(p - 1):\n",
    "        m1 = list(np.arange(j)); n1 = list(np.arange(j+1, p)); z1 = m1 + n1\n",
    "        theta[j, j] = 1 / (W[j, j] - np.dot(np.delete(W, j, 1)[j, :], beta[:, j]))\n",
    "        theta[z1, j] = -beta[:, j] * theta[j, j]\n",
    "    return theta"
   ]
  },
  {
   "cell_type": "markdown",
   "metadata": {},
   "source": [
    "### 例47"
   ]
  },
  {
   "cell_type": "code",
   "execution_count": 12,
   "metadata": {},
   "outputs": [],
   "source": [
    "Theta = np.array([   2,  0.6,    0,    0,  0.5,  0.6,    2, -0.4,  0.3,    0,\n",
    "                     0, -0.4,    2, -0.2,    0,    0,  0.3, -0.2,    2, -0.2,\n",
    "                   0.5,    0,    0, -0.2,    2]).reshape(-1, 5)\n",
    "Sigma = np.linalg.inv(Theta)\n",
    "meanvec = np.repeat(0, 5)\n",
    "dat = np.random.multivariate_normal(meanvec, Sigma, 20)\n",
    "# 平均meanvec，共分散行列Sigma，サンプル数no.row，変数の個数dからサンプル行列を生成\n",
    "s = np.dot(dat.T, dat) / dat.shape[0]"
   ]
  },
  {
   "cell_type": "code",
   "execution_count": 13,
   "metadata": {},
   "outputs": [
    {
     "name": "stdout",
     "output_type": "stream",
     "text": [
      "[[ 2.   0.6  0.   0.   0.5]\n",
      " [ 0.6  2.  -0.4  0.3  0. ]\n",
      " [ 0.  -0.4  2.  -0.2  0. ]\n",
      " [ 0.   0.3 -0.2  2.  -0.2]\n",
      " [ 0.5  0.   0.  -0.2  2. ]]\n",
      "[[ 2.5118153  -0.21935133 -0.00647497  0.07318709  0.        ]\n",
      " [-0.19568658  2.40686071 -1.16178568 -0.0415339   0.        ]\n",
      " [ 0.0897333  -1.16793509  2.59797252 -0.0139138   0.        ]\n",
      " [ 0.08072832 -0.00815472 -0.00477086  2.70057993  0.        ]\n",
      " [ 0.75434494  0.07455761  0.09623771  0.59631917  0.        ]]\n",
      "[[ 2.44305915 -0.1355082  -0.          0.          0.        ]\n",
      " [-0.12269605  2.30649764 -1.05135736 -0.          0.        ]\n",
      " [ 0.         -1.04950098  2.50473432 -0.          0.        ]\n",
      " [ 0.         -0.         -0.          2.65479895  0.        ]\n",
      " [ 0.66043232  0.05146659  0.06917062  0.5091722   0.        ]]\n",
      "[[ 2.38536528 -0.05865737 -0.          0.          0.        ]\n",
      " [-0.05376175  2.22478546 -0.95062024 -0.          0.        ]\n",
      " [ 0.         -0.94989685  2.42465626 -0.          0.        ]\n",
      " [ 0.         -0.         -0.          2.61720557  0.        ]\n",
      " [ 0.59678107  0.0250549   0.03832939  0.44207378  0.        ]]\n",
      "[[ 2.32729941 -0.         -0.          0.          0.        ]\n",
      " [-0.          2.14029325 -0.82974127 -0.          0.        ]\n",
      " [-0.         -0.82974127  2.33630075 -0.          0.        ]\n",
      " [ 0.         -0.         -0.          2.57577188  0.        ]\n",
      " [ 0.51643336  0.          0.          0.3564883   0.        ]]\n"
     ]
    }
   ],
   "source": [
    "print(Theta)\n",
    "print(graph_lasso(s))\n",
    "print(graph_lasso(s, lambd=0.015))\n",
    "print(graph_lasso(s, lambd=0.03))\n",
    "print(graph_lasso(s, lambd=0.05))"
   ]
  },
  {
   "cell_type": "markdown",
   "metadata": {},
   "source": [
    "### 例48"
   ]
  },
  {
   "cell_type": "code",
   "execution_count": 15,
   "metadata": {},
   "outputs": [],
   "source": [
    "from sklearn.covariance import graphical_lasso"
   ]
  },
  {
   "cell_type": "code",
   "execution_count": null,
   "metadata": {},
   "outputs": [],
   "source": [
    "print(np.linalg.inv(s))\n",
    "print(graphical_lasso(s, alpha=0))\n",
    "print(graphical_lasso(s, alpha=0.5))"
   ]
  },
  {
   "cell_type": "code",
   "execution_count": null,
   "metadata": {},
   "outputs": [],
   "source": [
    "def adj(mat):\n",
    "    p = mat.shape[1]; ad = np.zeros((p, p))\n",
    "    for i in range(p - 1):\n",
    "        for j in range((i + 1), p):\n",
    "            if mat[i, j] == 0:\n",
    "                ad[i, j] = 0\n",
    "            else:\n",
    "                ad[i, j] = 1\n",
    "    g = igraph.Graph.Adjacency(ad.tolist(), mode=igraph.ADJ_MAX)\n",
    "    g.vs[\"label\"] = list(range(g.vcount()))\n",
    "    return igraph.plot(g, bbox=(300, 300))"
   ]
  },
  {
   "cell_type": "markdown",
   "metadata": {},
   "source": [
    "### 例49"
   ]
  },
  {
   "cell_type": "code",
   "execution_count": null,
   "metadata": {},
   "outputs": [],
   "source": [
    "import pandas as pd"
   ]
  },
  {
   "cell_type": "code",
   "execution_count": null,
   "metadata": {},
   "outputs": [],
   "source": [
    "df = pd.read_csv(\"breastcancer.csv\")\n",
    "df.drop(df.columns[len(df.columns) - 1], axis=1, inplace=True)\n",
    "df = df.values"
   ]
  },
  {
   "cell_type": "code",
   "execution_count": null,
   "metadata": {},
   "outputs": [],
   "source": [
    "w = np.zeros((250, 1000))\n",
    "for i in range(1000):\n",
    "    w[:, i] = df[:, i]\n",
    "x = w; s = np.dot(x.T, x) / 250\n",
    "fit = graphical_lasso(s, 0.75)\n",
    "print(np.sum(list(map(lambda x: x == 0, fit[1]))))\n",
    "y = pd.DataFrame(columns=[\"y\"]); z = pd.DataFrame(columns=[\"z\"])\n",
    "for i in range(999):\n",
    "    for j in range((i + 1), 1000):\n",
    "        if fit[1][i, j] != 0:\n",
    "            y = y.append(pd.DataFrame({\"y\": [i]}))\n",
    "            z = z.append(pd.DataFrame({\"z\": [j]}))\n",
    "y.index = np.arange(1, len(y) + 1)\n",
    "z.index = np.arange(1, len(z) + 1)\n",
    "edges = pd.concat([y, z], axis=1)\n",
    "edges.to_csv(\"edges.csv\")"
   ]
  },
  {
   "cell_type": "markdown",
   "metadata": {},
   "source": [
    "## 5.3　疑似尤度を用いたグラフィカルモデルの推定"
   ]
  },
  {
   "cell_type": "markdown",
   "metadata": {},
   "source": [
    "### 例50"
   ]
  },
  {
   "cell_type": "code",
   "execution_count": null,
   "metadata": {},
   "outputs": [],
   "source": [
    "from IPython.core.display import display, SVG\n",
    "import igraph\n",
    "import pandas as pd\n",
    "from sklearn.linear_model import ElasticNet"
   ]
  },
  {
   "cell_type": "code",
   "execution_count": null,
   "metadata": {},
   "outputs": [],
   "source": [
    "df = pd.read_csv(\"breastcancer.csv\")\n",
    "df.drop(df.columns[len(df.columns) - 1], axis=1, inplace=True)\n",
    "df = df.values"
   ]
  },
  {
   "cell_type": "code",
   "execution_count": null,
   "metadata": {},
   "outputs": [],
   "source": [
    "n = 250; p = 50\n",
    "w = np.zeros((n, p))\n",
    "for i in range(p):\n",
    "    w[:, i] = df[:, i]\n",
    "x = w[:, range(p)]; lambd = 0.1\n",
    "model = list()\n",
    "for j in range(p):\n",
    "    m2 = list(np.arange(j)); n2 = list(np.arange(j + 1, p)); z2 = m2 + n2\n",
    "    model.append(ElasticNet(alpha=lambd, l1_ratio=1).fit(X=x[:, z2], y=x[:, j]))\n",
    "ad = np.zeros((p, p))\n",
    "for i in range(p):\n",
    "    for j in range(p - 1):\n",
    "        k = j\n",
    "        if j >= i:\n",
    "            k = j + 1\n",
    "        if model[i].coef_[j] != 0:\n",
    "            ad[i, k] = 1\n",
    "        else:\n",
    "            ad[i, k] = 0"
   ]
  },
  {
   "cell_type": "code",
   "execution_count": null,
   "metadata": {},
   "outputs": [],
   "source": [
    "# ANDの場合\n",
    "for i in range(p - 1):\n",
    "    for j in range(i + 1, p):\n",
    "        if ad[i, j] != ad[i, j]:\n",
    "            ad[i, j] = 0; ad[j, i] = 0\n",
    "u = list(); v = list()\n",
    "for i in range(p - 1):\n",
    "    for j in range(i + 1, p):\n",
    "        if ad[i, j] == 1:\n",
    "            u.append(i)\n",
    "            v.append(j)\n",
    "print(u); print(v)\n",
    "print(ad)\n",
    "adj(ad)"
   ]
  },
  {
   "cell_type": "code",
   "execution_count": null,
   "metadata": {},
   "outputs": [],
   "source": [
    "# ORの場合\n",
    "for i in range(p - 1):\n",
    "    for j in range(i + 1, p):\n",
    "        if ad[i, j] != ad[j, i]:\n",
    "            ad[i, j] = 1; ad[j, i] = 1\n",
    "print(ad)\n",
    "adj(ad)"
   ]
  },
  {
   "cell_type": "markdown",
   "metadata": {},
   "source": [
    "### 例51"
   ]
  },
  {
   "cell_type": "code",
   "execution_count": null,
   "metadata": {},
   "outputs": [],
   "source": [
    "from sklearn.linear_model import LogisticRegression\n",
    "import scipy.stats as ss"
   ]
  },
  {
   "cell_type": "code",
   "execution_count": null,
   "metadata": {},
   "outputs": [],
   "source": [
    "df = pd.read_csv(\"breastcancer.csv\")\n",
    "df.drop(df.columns[len(df.columns) - 1], axis=1, inplace=True)\n",
    "df = df.values"
   ]
  },
  {
   "cell_type": "code",
   "execution_count": null,
   "metadata": {},
   "outputs": [],
   "source": [
    "w = np.zeros((250, 1000))\n",
    "for i in range(1000):\n",
    "    w[:, i] = df[:, i]\n",
    "w = (np.sign(w) + 1) / 2\n",
    "p = 50; x = w[:, range(p)]; lambd = 0.15\n",
    "x[x == 0] = -1\n",
    "model = list()\n",
    "for j in range(p):\n",
    "    m3 = list(np.arange(j)); n3 = list(np.arange(j+1, p)); z3 = m3 + n3\n",
    "    model.append(LogisticRegression(C=(1/(250*lambd)), penalty=\"l1\", solver=\"liblinear\",\n",
    "                                    fit_intercept=True).fit(X=x[:, z3], y=x[:, j]))\n",
    "print(model[1].coef_)\n",
    "ad = np.zeros((p, p))\n",
    "for i in range(p):\n",
    "    for j in range(p - 1):\n",
    "        k = j\n",
    "        if j >= i:\n",
    "            k = j + 1\n",
    "        if model[i].coef_[:, j] != 0:\n",
    "            ad[i, k] = 1\n",
    "        else:\n",
    "            ad[i, k] = 0\n",
    "for i in range(p - 1):\n",
    "    for j in range(i + 1, p):\n",
    "        if ad[i, j] != ad[i, j]:\n",
    "            ad[i, j] = 0; ad[j, i] = 0\n",
    "print(ad)\n",
    "print(np.sum(ad)); adj(ad)"
   ]
  },
  {
   "cell_type": "markdown",
   "metadata": {},
   "source": [
    "## 5.4　JointグラフィカルLasso"
   ]
  },
  {
   "cell_type": "code",
   "execution_count": null,
   "metadata": {},
   "outputs": [],
   "source": [
    "from scipy import sparse"
   ]
  },
  {
   "cell_type": "code",
   "execution_count": null,
   "metadata": {},
   "outputs": [],
   "source": [
    "# 第4章のfused_dual, fused_primeを用いる\n",
    "def fused_2(y, D, lam_0):\n",
    "    beta, lam = fused_prime(y, D)\n",
    "    m, p = D.shape\n",
    "    i = 0\n",
    "    for k in range(1, m):\n",
    "        if lam[k-1] < lam_0 <= lam[k]:\n",
    "            i = k\n",
    "    if lam_0 > lam[m-1]:\n",
    "        beta_0 = beta[m-1, ]\n",
    "    elif i == 0:\n",
    "        beta_0 = beta[0, ]\n",
    "    else:\n",
    "        beta_0 = (beta[i-1, ]\n",
    "                  + (lam_0 - lam[i-1]) / (lam[i] - lam[i-1]) * (beta[i, ] - beta[i-1, ]))\n",
    "    return beta_0"
   ]
  },
  {
   "cell_type": "code",
   "execution_count": null,
   "metadata": {},
   "outputs": [],
   "source": [
    "# 大きさが3以上でないとfused_2は稼働しない\n",
    "def b_fused(y, lambd):\n",
    "    if y[0] > y[1] + 2 * lambd:\n",
    "        a = y[0] - lambd; b = y[1] + lambd\n",
    "    elif y[0] < y[1] - 2 * lambd:\n",
    "        a = y[0] + lambd; b = y[1] - lambd\n",
    "    else:\n",
    "        a = (y[0] + y[1]) / 2; b = a\n",
    "    return [a, b]"
   ]
  },
  {
   "cell_type": "code",
   "execution_count": null,
   "metadata": {},
   "outputs": [],
   "source": [
    "# 隣接項だけではなく，離接するすべての値と比較するFused Lasso\n",
    "def graph_fused(y=[], lambd1=None, lambd2=None):\n",
    "    K = len(y)\n",
    "    if K == 1: theta = y\n",
    "    elif K == 2: theta = b_fused(y, lambd2)\n",
    "    else:\n",
    "        y = np.array(y)\n",
    "        L = K * (K - 1) / 2; D = np.zeros((int(L), K))\n",
    "        k = 0\n",
    "        for i in range(K - 1):\n",
    "            for j in range(i + 1, K):\n",
    "                D[k, i] = 1; D[k, j] = -1; k = k + 1\n",
    "        theta = fused_2(y, D, lambd2)\n",
    "    theta = soft_th(lambd1, theta)\n",
    "    return theta"
   ]
  },
  {
   "cell_type": "code",
   "execution_count": null,
   "metadata": {},
   "outputs": [],
   "source": [
    "# Joint Graphical Lasso\n",
    "def jgl(X, lambd1, lambd2):\n",
    "    K = len(X); p = np.array(X[1]).shape[1]; n = np.zeros(K); S = list()\n",
    "    for k in range(K):\n",
    "        n[k] = X[k].shape[0]; S.append(np.dot(X[k].T, X[k]) / n[k])\n",
    "    rho = 1; lambd1 = lambd1 / rho; lambd2 = lambd2 / rho\n",
    "    Theta = [0] * K\n",
    "    for k in range(K): Theta[k] = np.diag([1] * p)\n",
    "    Theta_old = [0] * K\n",
    "    for k in range(K): Theta_old[k] = np.diag(np.random.normal(size=p))\n",
    "    U = [0] * K\n",
    "    for k in range(K): U[k] = np.zeros((p, p))\n",
    "    Z = [0] * K\n",
    "    for k in range(K): Z[k] = np.zeros((p, p))\n",
    "    epsilon = 0; epsilon_old = 1; h = 0\n",
    "    while np.abs(epsilon - epsilon_old) > 0.0001 * epsilon_old:\n",
    "        h = h + 1\n",
    "        Theta_old = c.deepcopy(Theta); epsilon_old = epsilon\n",
    "        # (a)に関する更新\n",
    "        for k in range(K):\n",
    "            mat = S[k] - rho * Z[k] / n[k] + rho * U[k] / n[k]\n",
    "            u, s, v = np.linalg.svd(mat)\n",
    "            DD = n[k] / (2 * rho) * (-s + np.sqrt(np.square(s) + 4 * rho / n[k]))\n",
    "            Theta[k] = np.dot(np.dot(v.T, np.diag(DD)), v)\n",
    "        # (b)に関する更新\n",
    "        for i in range(p):\n",
    "            for j in range(p):\n",
    "                A = list()\n",
    "                for k in range(K): A.append(Theta[k][i, j] + U[k][i, j])\n",
    "                if i == j: B = graph_fused(A, 0, lambd2)\n",
    "                else: B = graph_fused(A, lambd1, lambd2)\n",
    "                for k in range(K): Z[k][i, j] = B[k]\n",
    "        # (c)に関する更新\n",
    "        for k in range(K):\n",
    "            U[k] = U[k] + Theta[k] - Z[k]\n",
    "        # 収束したかどうかの検査\n",
    "        epsilon = 0\n",
    "        for k in range(K):\n",
    "            epsilon_new = np.max(np.abs(Theta[k] - Theta_old[k]))\n",
    "            if epsilon_new > epsilon: epsilon = epsilon_new\n",
    "    print(\"epsilon:\", epsilon)\n",
    "    print(\"M:\", np.abs(epsilon - epsilon_old))\n",
    "    print(\"epsilon_old * 0.0001:\", epsilon_old * 0.0001)\n",
    "    print(\"The number of while loop:\", h)\n",
    "    return Z"
   ]
  },
  {
   "cell_type": "markdown",
   "metadata": {},
   "source": [
    "```\n",
    "# (b)の更新の箇所を以下で置き換える。下記単独では動作しない。\n",
    "for i in range(p):\n",
    "    for j in range(p):\n",
    "        A = list()\n",
    "        for k in range(K): A.append(Theta[k][i, j] + U[k][i, j])\n",
    "        if i == j:\n",
    "            B = A\n",
    "        else:\n",
    "            B = soft_th(lambd1 / rho, A) * np.max(\n",
    "                1 - lambd2 / rho / np.sqrt(\n",
    "                    np.linalg.norm(soft_th(lambd1 / rho, A), 2) ** 2), 0)\n",
    "        for k in range(K):\n",
    "            Z[k][i, j] = B[k]\n",
    "```"
   ]
  },
  {
   "cell_type": "markdown",
   "metadata": {},
   "source": [
    "### 例52"
   ]
  },
  {
   "cell_type": "code",
   "execution_count": null,
   "metadata": {},
   "outputs": [],
   "source": [
    "p = 10; K = 2; N = 100; n = np.zeros(K); X = list()\n",
    "for k in range(K):\n",
    "    n[k] = N / K\n",
    "    X.append(np.random.normal(size=(int(n[k]), p)))\n",
    "for k in range(1, K-1):\n",
    "    X[k] = X[k - 1] + np.random.normal(size=(int(n[k]), p)) * 0.1\n",
    "Theta = jgl(X, 3, 0.01)\n",
    "print(Theta[0])\n",
    "adj(Theta[0])"
   ]
  },
  {
   "cell_type": "code",
   "execution_count": null,
   "metadata": {},
   "outputs": [],
   "source": [
    "adj(Theta[1])"
   ]
  },
  {
   "cell_type": "code",
   "execution_count": null,
   "metadata": {},
   "outputs": [],
   "source": [
    "p = 10; K = 3; N = 100; n = np.zeros(K); X = list()\n",
    "for k in range(K):\n",
    "    n[k] = N / K\n",
    "    X.append(np.random.normal(size=(int(n[k]), p)))\n",
    "for k in range(1, K-1):\n",
    "    X[k] = X[k - 1] + np.random.normal(size=(int(n[k]), p)) * 0.1\n",
    "Theta2 = jgl(X, 3, 0.01)\n",
    "adj(Theta2[0])"
   ]
  },
  {
   "cell_type": "code",
   "execution_count": null,
   "metadata": {},
   "outputs": [],
   "source": [
    "adj(Theta2[1])"
   ]
  },
  {
   "cell_type": "code",
   "execution_count": null,
   "metadata": {},
   "outputs": [],
   "source": [
    "adj(Theta2[2])"
   ]
  }
 ],
 "metadata": {
  "kernelspec": {
   "display_name": "Python 3",
   "language": "python",
   "name": "python3"
  },
  "language_info": {
   "codemirror_mode": {
    "name": "ipython",
    "version": 3
   },
   "file_extension": ".py",
   "mimetype": "text/x-python",
   "name": "python",
   "nbconvert_exporter": "python",
   "pygments_lexer": "ipython3",
   "version": "3.8.5"
  }
 },
 "nbformat": 4,
 "nbformat_minor": 4
}
