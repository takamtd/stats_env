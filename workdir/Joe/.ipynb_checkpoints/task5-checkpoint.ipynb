{
 "cells": [
  {
   "cell_type": "markdown",
   "metadata": {},
   "source": [
    "# 5. グラフィカルモデル（問題62～75）"
   ]
  },
  {
   "cell_type": "markdown",
   "metadata": {},
   "source": [
    "### 70"
   ]
  },
  {
   "cell_type": "code",
   "execution_count": null,
   "metadata": {},
   "outputs": [],
   "source": [
    "# soft_th, inner_prodは別で定義される\n",
    "def graph_lasso(s, lambd=0):\n",
    "    s = np.array(s)\n",
    "    W = s; p = s.shape[1]; beta = np.zeros((p-1, p)); w = s.shape[0]\n",
    "    beta_out = beta; eps_out = 1\n",
    "    while eps_out > 0.01:\n",
    "        for j in range(p):\n",
    "            a = np.delete(np.delete(W, j, 0), j, 1); b = np.delete(s, j, 0)[:, j]\n",
    "            beta_in = beta[:, j]; eps_in = 1\n",
    "            while eps_in > 0.01:\n",
    "                for h in range(p - 1):\n",
    "                    cc = ## 空欄(1) ##\n",
    "                    beta[h, j] = ## 空欄(2) ##\n",
    "                eps_in = np.max(beta[:, j] - beta_in); beta_in = beta[:, j]\n",
    "            m = list(np.arange(j)); n = list(np.arange(j+1, w)); z = m + n\n",
    "            W[z, j] = np.dot(a, beta[:, j])\n",
    "        eps_out = np.max(beta - beta_out); beta_out = beta\n",
    "    theta = np.zeros((p, p))\n",
    "    for j in range(p - 1):\n",
    "        m1 = list(np.arange(j)); n1 = list(np.arange(j+1, p)); z1 = m1 + n1\n",
    "        theta[j, j] = 1 / (W[j, j] - np.dot(np.delete(W, j, 1)[j, :], beta[:, j]))\n",
    "        theta[z1, j] = -beta[:, j] * theta[j, j]\n",
    "    return theta"
   ]
  },
  {
   "cell_type": "code",
   "execution_count": null,
   "metadata": {},
   "outputs": [],
   "source": [
    "Theta = np.array([   2,  0.6,    0,    0,  0.5,  0.6,    2, -0.4,  0.3,    0,\n",
    "                     0, -0.4,    2, -0.2,    0,    0,  0.3, -0.2,    2, -0.2,\n",
    "                   0.5,    0,    0, -0.2,    2]).reshape(-1, 5)\n",
    "Sigma = np.linalg.inv(Theta)\n",
    "meanvec = np.repeat(0, 5)\n",
    "dat = np.random.multivariate_normal(meanvec, Sigma, 20)"
   ]
  },
  {
   "cell_type": "code",
   "execution_count": null,
   "metadata": {},
   "outputs": [],
   "source": [
    "# サンプル行列を生成\n",
    "s = np.dot(dat.T, dat) / dat.shape[0]"
   ]
  },
  {
   "cell_type": "code",
   "execution_count": null,
   "metadata": {},
   "outputs": [],
   "source": [
    "print(Theta)\n",
    "print(graph_lasso(s))\n",
    "print(graph_lasso(s, lambd=0.01))"
   ]
  },
  {
   "cell_type": "markdown",
   "metadata": {},
   "source": [
    "### 71"
   ]
  },
  {
   "cell_type": "code",
   "execution_count": null,
   "metadata": {},
   "outputs": [],
   "source": [
    "import pandas as pd"
   ]
  },
  {
   "cell_type": "code",
   "execution_count": null,
   "metadata": {},
   "outputs": [],
   "source": [
    "def adj(mat):\n",
    "    p = mat.shape[1]; ad = np.zeros((p, p))\n",
    "    for i in range(p - 1):\n",
    "        for j in range((i + 1), p):\n",
    "            if ## 空欄 ##\n",
    "                ad[i, j] = 0\n",
    "            else:\n",
    "                ad[i, j] = 1\n",
    "    g = igraph.Graph.Adjacency(ad.tolist(), mode=igraph.ADJ_MAX)\n",
    "    g.vs[\"label\"] = list(range(g.vcount()))\n",
    "    return igraph.plot(g, bbox=(300, 300))"
   ]
  },
  {
   "cell_type": "code",
   "execution_count": null,
   "metadata": {},
   "outputs": [],
   "source": [
    "df = pd.read_csv(\"breastcancer.csv\")\n",
    "df.drop(df.columns[len(df.columns) - 1], axis=1, inplace=True)\n",
    "df = df.values"
   ]
  },
  {
   "cell_type": "code",
   "execution_count": null,
   "metadata": {},
   "outputs": [],
   "source": [
    "w = np.zeros((250, 1000))\n",
    "for i in range(1000):\n",
    "    w[:, i] = df[:, i]\n",
    "x = w; s = np.dot(x.T, x) / 250\n",
    "fit = graphical_lasso(s, 0.75)\n",
    "print(np.sum(list(map(lambda x: x == 0, fit[1]))))\n",
    "y = pd.DataFrame(columns=[\"y\"]); z = pd.DataFrame(columns=[\"z\"])\n",
    "for i in range(999):\n",
    "    for j in range((i + 1), 1000):\n",
    "        if fit[1][i, j] != 0:\n",
    "            y = y.append(pd.DataFrame({\"y\": [i]}))\n",
    "            z = z.append(pd.DataFrame({\"z\": [j]}))\n",
    "y.index = np.arange(1, len(y) + 1)\n",
    "z.index = np.arange(1, len(z) + 1)\n",
    "edges = pd.concat([y, z], axis=1)\n",
    "edges.to_csv(\"edges.csv\")"
   ]
  },
  {
   "cell_type": "markdown",
   "metadata": {},
   "source": [
    "### 72"
   ]
  },
  {
   "cell_type": "code",
   "execution_count": null,
   "metadata": {},
   "outputs": [],
   "source": [
    "df = pd.read_csv(\"breastcancer.csv\")\n",
    "df.drop(df.columns[len(df.columns) - 1], axis=1, inplace=True)\n",
    "df = df.values"
   ]
  },
  {
   "cell_type": "code",
   "execution_count": null,
   "metadata": {},
   "outputs": [],
   "source": [
    "n = 250; p = 50\n",
    "w = np.zeros((n, p))\n",
    "for i in range(p):\n",
    "    w[:, i] = df[:, i]\n",
    "x = w[:, range(p)]; lambd = 0.1\n",
    "model = list()\n",
    "for j in range(p):\n",
    "    m2 = list(np.arange(j)); n2 = list(np.arange(j+1, p)); z2 = m2 + n2\n",
    "    model.append(ElasticNet(alpha=lambd, l1_ratio=1).fit(X=x[:, z2], y=x[:, j]))\n",
    "ad = np.zeros((p, p))\n",
    "for i in range(p):\n",
    "    for j in range(p - 1):\n",
    "        k = j\n",
    "        if j >= i:\n",
    "            k = j + 1\n",
    "        if model[i].coef_[j] != 0:\n",
    "            ad[i, k] = 1\n",
    "        else:\n",
    "            ad[i, k] = 0"
   ]
  },
  {
   "cell_type": "code",
   "execution_count": null,
   "metadata": {},
   "outputs": [],
   "source": [
    "# ANDの場合\n",
    "for i in range(p - 1):\n",
    "    for j in range(i + 1, p):\n",
    "        if ad[i, j] != ad[i, j]:\n",
    "            ad[i, j] = 0; ad[j, i] = 0\n",
    "u = list(); v = list()\n",
    "for i in range(p - 1):\n",
    "    for j in range(i + 1, p):\n",
    "        if ad[i, j] == 1:\n",
    "            u.append(i)\n",
    "            v.append(j)\n",
    "print(u, v)\n",
    "print(ad)\n",
    "adj(ad)"
   ]
  },
  {
   "cell_type": "code",
   "execution_count": null,
   "metadata": {},
   "outputs": [],
   "source": [
    "w = np.zeros((250, 1000))\n",
    "for i in range(1000):\n",
    "    w[:, i] = df[:, i]\n",
    "w = (np.sign(w) + 1) / 2\n",
    "p = 50; x = w[:, range(p)]; lambd = 0.15\n",
    "x[x == 0] = -1\n",
    "model = list()\n",
    "for j in range(p):\n",
    "    m3 = list(np.arange(j)); n3 = list(np.arange(j+1, p)); z3 = m3 + n3\n",
    "    model.append(LogisticRegression(\n",
    "        C=(1 / (250*lambd)), penalty=\"l1\", solver=\"liblinear\",\n",
    "        fit_intercept=True).fit(X=x[:, z3], y=x[:, j]))\n",
    "print(model[1].coef_)\n",
    "ad = np.zeros((p, p))\n",
    "for i in range(p):\n",
    "    for j in range(p - 1):\n",
    "        k = j\n",
    "        if j >= i:\n",
    "            k = j + 1\n",
    "        if model[i].coef_[:, j] != 0:\n",
    "            ad[i, k] = 1\n",
    "        else:\n",
    "            ad[i, k] = 0\n",
    "for i in range(p - 1):\n",
    "    for j in range(i + 1, p):\n",
    "        if ad[i, j] != ad[i, j]:\n",
    "            ad[i, j] = 0; ad[j, i] = 0\n",
    "print(ad)\n",
    "print(np.sum(ad)); adj(ad)"
   ]
  },
  {
   "cell_type": "markdown",
   "metadata": {},
   "source": [
    "### 74"
   ]
  },
  {
   "cell_type": "code",
   "execution_count": null,
   "metadata": {},
   "outputs": [],
   "source": [
    "# 隣接項だけではなく，離接するすべての値と比較するFused Lasso\n",
    "def graph_fused(y=[], lambd1=None, lambd2=None):\n",
    "    K = len(y)\n",
    "    if K == 1: theta = y\n",
    "    elif K == 2: theta = b_fused(y, lambd2)\n",
    "    else:\n",
    "        y = np.array(y)\n",
    "        L = K * (K - 1) / 2; D = np.zeros((int(L), K))\n",
    "        k = 0\n",
    "        for i in range(K - 1):\n",
    "            for j in range(i + 1, K):\n",
    "                D[k, i] = 1; D[k, j] = -1; k = k + 1\n",
    "        theta = ## 空欄(1) ##\n",
    "    theta = soft_th(lambd1, theta)\n",
    "    return theta"
   ]
  },
  {
   "cell_type": "code",
   "execution_count": null,
   "metadata": {},
   "outputs": [],
   "source": [
    "# Joint Graphical Lasso\n",
    "def jgl(X, lambd1, lambd2):\n",
    "    K = len(X); p = np.array(X[1]).shape[1]; n = np.zeros(K); S = list()\n",
    "    for k in range(K):\n",
    "        n[k] = X[k].shape[0]; S.append(np.dot(X[k].T, X[k]) / n[k])\n",
    "    rho = 1; lambd1 = lambd1 / rho; lambd2 = lambd2 / rho\n",
    "    Theta = [0] * K\n",
    "    for k in range(K): Theta[k] = np.diag([1] * p)\n",
    "    Theta_old = [0] * K\n",
    "    for k in range(K): Theta_old[k] = np.diag(np.random.normal(size=p))\n",
    "    U = [0] * K\n",
    "    for k in range(K): U[k] = np.zeros((p, p))\n",
    "    Z = [0] * K\n",
    "    for k in range(K): Z[k] = np.zeros((p, p))\n",
    "    epsilon = 0; epsilon_old = 1; h = 0\n",
    "    while np.abs(epsilon - epsilon_old) > 0.0001 * epsilon_old:\n",
    "        h = h + 1\n",
    "        Theta_old = c.deepcopy(Theta); epsilon_old = epsilon\n",
    "        # (a)に関する更新\n",
    "        for k in range(K):\n",
    "            mat = S[k] - rho * Z[k] / n[k] + rho * U[k] / n[k]\n",
    "            u, s, v = np.linalg.svd(mat)\n",
    "            DD = ## 空欄(2) ##\n",
    "            Theta[k] = ## 空欄(3) ##\n",
    "        # (b)に関する更新\n",
    "        for i in range(p):\n",
    "            for j in range(p):\n",
    "                A = list()\n",
    "                for k in range(K): A.append(Theta[k][i, j] + U[k][i, j])\n",
    "                if i == j: B = graph_fused(A, 0, lambd2)\n",
    "                else: B = graph_fused(A, lambd1, lambd2)\n",
    "                for k in range(K): Z[k][i, j] = B[k]\n",
    "        # (c)に関する更新\n",
    "        for k in range(K):\n",
    "            U[k] = U[k] + Theta[k] - Z[k]\n",
    "        # 収束したかどうかの検査\n",
    "        epsilon = 0\n",
    "        for k in range(K):\n",
    "            epsilon_new = np.max(np.abs(Theta[k] - Theta_old[k]))\n",
    "            if epsilon_new > epsilon: epsilon = epsilon_new\n",
    "    print(\"epsilon:\", epsilon)\n",
    "    print(\"M:\", np.abs(epsilon - epsilon_old))\n",
    "    print(\"epsilon_old * 0.0001:\", epsilon_old * 0.0001)\n",
    "    print(\"The number of while loop:\", h)\n",
    "    return Z"
   ]
  },
  {
   "cell_type": "markdown",
   "metadata": {},
   "source": [
    "### 75"
   ]
  },
  {
   "cell_type": "code",
   "execution_count": null,
   "metadata": {},
   "outputs": [],
   "source": [
    "# (b)の更新の箇所を以下で置き換える。下記単独では動作しない。\n",
    "for i in range(p):\n",
    "    for j in range(p):\n",
    "        A = list()\n",
    "        for k in range(K): A.append(Theta[k][i, j] + U[k][i, j])\n",
    "        if i == j:\n",
    "            B = A\n",
    "        else:\n",
    "            B = ## 空欄 ##\n",
    "                np.sqrt(np.linalg.norm(soft_th(lambd1 / rho, A), 2) ** 2), 0)\n",
    "        for k in range(K):\n",
    "            Z[k][i, j] = B[k]"
   ]
  }
 ],
 "metadata": {
  "kernelspec": {
   "display_name": "Python 3",
   "language": "python",
   "name": "python3"
  },
  "language_info": {
   "codemirror_mode": {
    "name": "ipython",
    "version": 3
   },
   "file_extension": ".py",
   "mimetype": "text/x-python",
   "name": "python",
   "nbconvert_exporter": "python",
   "pygments_lexer": "ipython3",
   "version": "3.8.5"
  }
 },
 "nbformat": 4,
 "nbformat_minor": 2
}
