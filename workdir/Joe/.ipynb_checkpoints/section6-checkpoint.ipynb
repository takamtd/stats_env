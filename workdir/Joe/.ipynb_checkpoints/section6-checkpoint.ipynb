{
 "cells": [
  {
   "cell_type": "markdown",
   "metadata": {},
   "source": [
    "# 6. 行列分解"
   ]
  },
  {
   "cell_type": "code",
   "execution_count": null,
   "metadata": {},
   "outputs": [],
   "source": [
    "import copy\n",
    "import japanize_matplotlib\n",
    "%matplotlib inline\n",
    "import matplotlib.pyplot as plt\n",
    "import numpy as np\n",
    "import scipy\n",
    "from matplotlib.pyplot import imshow\n",
    "from numpy.random import randn\n",
    "from scipy import stats"
   ]
  },
  {
   "cell_type": "markdown",
   "metadata": {},
   "source": [
    "## 6.1　特異値分解"
   ]
  },
  {
   "cell_type": "markdown",
   "metadata": {},
   "source": [
    "### 例53"
   ]
  },
  {
   "cell_type": "code",
   "execution_count": null,
   "metadata": {},
   "outputs": [],
   "source": [
    "Z = np.array([0, 5, -1, -2, -4, 1]).reshape(-1, 3).T\n",
    "print(Z)"
   ]
  },
  {
   "cell_type": "code",
   "execution_count": null,
   "metadata": {},
   "outputs": [],
   "source": [
    "u, s, vh = np.linalg.svd(Z)\n",
    "print(\"u:\", u, \"\\n\" \"s:\", s, \"\\n\" \"vh:\", vh)"
   ]
  },
  {
   "cell_type": "code",
   "execution_count": null,
   "metadata": {},
   "outputs": [],
   "source": [
    "u2, s2, vh2 = np.linalg.svd(Z.T)\n",
    "print(\"u2:\", u2, \"\\n\" \"s2:\", s2, \"\\n\" \"vh2:\", vh2)"
   ]
  },
  {
   "cell_type": "markdown",
   "metadata": {},
   "source": [
    "### 例54"
   ]
  },
  {
   "cell_type": "code",
   "execution_count": null,
   "metadata": {},
   "outputs": [],
   "source": [
    "Z = np.array([0, 5, 5, -1]).reshape(-1, 2).T\n",
    "print(Z)"
   ]
  },
  {
   "cell_type": "code",
   "execution_count": null,
   "metadata": {},
   "outputs": [],
   "source": [
    "u, s, vh = np.linalg.svd(Z)\n",
    "print(\"u:\", u, \"\\n\" \"s:\", s, \"\\n\" \"vh:\", vh)"
   ]
  },
  {
   "cell_type": "code",
   "execution_count": null,
   "metadata": {},
   "outputs": [],
   "source": [
    "val, vec = np.linalg.eig(Z)\n",
    "print(\"values:\", val, \"\\n\" \"vectors:\", vec)"
   ]
  },
  {
   "cell_type": "markdown",
   "metadata": {},
   "source": [
    "## 6.2　Eckart-Youngの定理"
   ]
  },
  {
   "cell_type": "code",
   "execution_count": null,
   "metadata": {},
   "outputs": [],
   "source": [
    "def svd_r(z, r):\n",
    "    u, s, vh = np.linalg.svd(z)\n",
    "    sigma = np.zeros((z.shape[0], z.shape[1]))\n",
    "    for i in range(r):\n",
    "        sigma[i, i] = s[i]\n",
    "    tt = np.dot(np.dot(u, sigma), vh)\n",
    "    return tt"
   ]
  },
  {
   "cell_type": "markdown",
   "metadata": {},
   "source": [
    "### 例55"
   ]
  },
  {
   "cell_type": "code",
   "execution_count": null,
   "metadata": {},
   "outputs": [],
   "source": [
    "m = 100; n = 80; z = np.random.normal(size=m*n).reshape(m, -1)\n",
    "F_norm = list()\n",
    "for r in range(n):\n",
    "    m = svd_r(z, r)\n",
    "    F_norm.append(np.linalg.norm(z-m, ord=\"fro\") ** 2)\n",
    "print(np.array(F_norm).shape)\n",
    "plt.plot(list(range(n)), F_norm)\n",
    "plt.xlabel(\"階数\")\n",
    "plt.ylabel(\"Frobeniusノルムの二乗\")\n",
    "plt.show()"
   ]
  },
  {
   "cell_type": "markdown",
   "metadata": {},
   "source": [
    "### 例56"
   ]
  },
  {
   "cell_type": "code",
   "execution_count": null,
   "metadata": {},
   "outputs": [],
   "source": [
    "from PIL import Image\n",
    "image = np.array(Image.open(\"lion.jpg\"))\n",
    "rank_seq = [2, 5, 10, 20, 50, 100]\n",
    "mat = np.zeros((image.shape[0], image.shape[1], 3))\n",
    "fig = plt.figure(figsize=(40, 35)); k = 1\n",
    "for j in rank_seq:\n",
    "    for i in range(3): mat[:, :, i] = svd_r(image[:, :, i], j)\n",
    "    Image.fromarray(np.uint8(mat)).save(\"compressed/lion_compressed_mat_rank_%d.jpg\" % j)\n",
    "    Im = Image.open(\"compressed/lion_compressed_mat_rank_%d.jpg\" % j)\n",
    "    fig.add_subplot(3, 2, k)\n",
    "    imshow(Im)\n",
    "    k = k + 1"
   ]
  },
  {
   "cell_type": "code",
   "execution_count": null,
   "metadata": {},
   "outputs": [],
   "source": [
    "def mat_r(z, mask, r):\n",
    "    min = np.inf\n",
    "    m = z.shape[0]; n = z.shape[1]\n",
    "    for j in range(5):\n",
    "        guess = np.random.normal(size=m*n).reshape(m, -1)\n",
    "        for i in range(10):\n",
    "            guess = svd_r(mask * z + (1 - mask) * guess, r)\n",
    "        value = np.linalg.norm(mask * (z - guess), ord=\"fro\")\n",
    "        if value < min: min_mat = guess; min = value\n",
    "    return min_mat"
   ]
  },
  {
   "cell_type": "markdown",
   "metadata": {},
   "source": [
    "### 例57"
   ]
  },
  {
   "cell_type": "code",
   "execution_count": null,
   "metadata": {},
   "outputs": [],
   "source": [
    "image = np.array(Image.open(\"lion.jpg\"))\n",
    "m = image.shape[0]; n = image.shape[1]\n",
    "mask = np.random.binomial(1, 0.5, size=m*n).reshape(m, -1)\n",
    "rank_seq = [2, 5, 10, 20, 50, 100]\n",
    "fig = plt.figure(figsize=(40, 35)); k = 1\n",
    "mat = np.zeros((image.shape[0], image.shape[1], 3))\n",
    "for j in rank_seq:\n",
    "    for i in range(3): mat[:, :, i] = mat_r(image[:, :, i], mask, j)\n",
    "    Image.fromarray(np.uint8(mat)).save(\"compressed/lion2_compressed_mat_rank_%d.jpg\" % j)\n",
    "    Im = Image.open(\"compressed/lion2_compressed_mat_rank_%d.jpg\" % j)\n",
    "    fig.add_subplot(3, 2, k)\n",
    "    imshow(Im)\n",
    "    k = k + 1"
   ]
  },
  {
   "cell_type": "markdown",
   "metadata": {},
   "source": [
    "## 6.3　ノルム"
   ]
  },
  {
   "cell_type": "markdown",
   "metadata": {},
   "source": [
    "## 6.4　低階数近似のスパースの適用"
   ]
  },
  {
   "cell_type": "code",
   "execution_count": null,
   "metadata": {},
   "outputs": [],
   "source": [
    "def soft_svd(lambd, z):\n",
    "    u, s, vh = np.linalg.svd(z)\n",
    "    sigma = np.zeros((z.shape[0], z.shape[1]))\n",
    "    for i in range(r):\n",
    "        sigma[i, i] = s[i]\n",
    "    return np.dot(np.dot(u, sigma), vh)"
   ]
  },
  {
   "cell_type": "code",
   "execution_count": null,
   "metadata": {},
   "outputs": [],
   "source": [
    "def mat_lasso(lambd, z, mask):\n",
    "    m = z.shape[0]; n = z.shape[1]\n",
    "    guess = np.random.normal(size=m*n).reshape(m, -1)\n",
    "    for i in range(20):\n",
    "        guess = soft_svd(lambd, mask * z + (1 - mask) * guess)\n",
    "    return guess"
   ]
  },
  {
   "cell_type": "markdown",
   "metadata": {},
   "source": [
    "### 例59"
   ]
  },
  {
   "cell_type": "code",
   "execution_count": null,
   "metadata": {},
   "outputs": [],
   "source": [
    "image = np.array(Image.open(\"lion.jpg\"))\n",
    "m = image[:, :, 1].shape[0]; n = image[:, :, 1].shape[1]\n",
    "p = 0.5; lambd = 0.5\n",
    "mat = np.zeros((m, n, 3))\n",
    "mask = np.random.binomial(1, p, size=m*n).reshape(-1, n)\n",
    "for i in range(3):\n",
    "    mat[:, :, i] = mat_lasso(lambd, image[:, :, i], mask)\n",
    "Image.fromarray(np.uint8(mat)).save(\"compressed/lion3_compressed_mat_soft.jpg\")\n",
    "i = Image.open(\"compressed/lion3_compressed_mat_soft.jpg\")\n",
    "imshow(i)"
   ]
  }
 ],
 "metadata": {
  "kernelspec": {
   "display_name": "Python 3",
   "language": "python",
   "name": "python3"
  },
  "language_info": {
   "codemirror_mode": {
    "name": "ipython",
    "version": 3
   },
   "file_extension": ".py",
   "mimetype": "text/x-python",
   "name": "python",
   "nbconvert_exporter": "python",
   "pygments_lexer": "ipython3",
   "version": "3.8.5"
  }
 },
 "nbformat": 4,
 "nbformat_minor": 2
}
