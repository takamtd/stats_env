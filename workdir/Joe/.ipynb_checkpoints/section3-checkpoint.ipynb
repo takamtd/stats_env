{
 "cells": [
  {
   "cell_type": "markdown",
   "metadata": {},
   "source": [
    "# 4. Fused Lasso（問題47～61）"
   ]
  },
  {
   "cell_type": "markdown",
   "metadata": {},
   "source": [
    "### 47(a)"
   ]
  },
  {
   "cell_type": "code",
   "execution_count": 1,
   "metadata": {},
   "outputs": [
    {
     "ename": "SyntaxError",
     "evalue": "invalid syntax (<ipython-input-1-8e03f11bdf4f>, line 6)",
     "output_type": "error",
     "traceback": [
      "\u001b[1;36m  File \u001b[1;32m\"<ipython-input-1-8e03f11bdf4f>\"\u001b[1;36m, line \u001b[1;32m6\u001b[0m\n\u001b[1;33m    soln = ## 空欄 ##\u001b[0m\n\u001b[1;37m           ^\u001b[0m\n\u001b[1;31mSyntaxError\u001b[0m\u001b[1;31m:\u001b[0m invalid syntax\n"
     ]
    }
   ],
   "source": [
    "# 実行に際しては，本章で定義される関数fusedを用いる\n",
    "df = np.loadtxt(\"cgh.txt\", delimiter=\"\\t\")\n",
    "y = df\n",
    "n = len(y)\n",
    "lam = 1\n",
    "soln = ## 空欄 ##\n",
    "plt.xlabel(\"遺伝子番号\")\n",
    "plt.ylabel(\"コピー数比（対数値）\")\n",
    "plt.scatter(np.arange(n), y, s=1)\n",
    "plt.plot(soln, color=\"red\")"
   ]
  },
  {
   "cell_type": "markdown",
   "metadata": {},
   "source": [
    "### 47(b)"
   ]
  },
  {
   "cell_type": "code",
   "execution_count": null,
   "metadata": {},
   "outputs": [],
   "source": [
    "n = 50\n",
    "x = np.array(range(n))\n",
    "y = np.sign(x / n * 2 * np.pi) + randn(n)\n",
    "lam = 1"
   ]
  },
  {
   "cell_type": "code",
   "execution_count": null,
   "metadata": {},
   "outputs": [],
   "source": [
    "D = k_order(n, 4)\n",
    "soln = ## 空欄 ##\n",
    "plt.xlabel(\"position\")\n",
    "plt.ylabel(\"trend filtering estimate\")\n",
    "plt.scatter(np.arange(n), y, s=1)\n",
    "plt.plot(soln, color=\"red\")"
   ]
  },
  {
   "cell_type": "markdown",
   "metadata": {},
   "source": [
    "### 53"
   ]
  },
  {
   "cell_type": "code",
   "execution_count": null,
   "metadata": {},
   "outputs": [],
   "source": [
    "def lars(X, y):\n",
    "    n, p = X.shape\n",
    "    X_bar = np.zeros(p)\n",
    "    for j in range(p):\n",
    "        X_bar[j] = np.mean(X[:, j])\n",
    "        X[:, j] = X[:, j] - X_bar[j]\n",
    "    y_bar = np.mean(y)\n",
    "    y = y - y_bar\n",
    "    scale = np.zeros(p)\n",
    "    for j in range(p):\n",
    "        scale[j] = np.sqrt(np.sum(X[:, j] * X[:, j]) / n)\n",
    "        X[:, j] = X[:, j] / scale[j]\n",
    "    beta = np.zeros((p+1, p))\n",
    "    lambda_seq = np.zeros(p+1)\n",
    "    for j in range(p):\n",
    "        lam = np.abs(np.sum(X[:, j] * y))\n",
    "        if lam > lambda_seq[0]:\n",
    "            j_max = j\n",
    "            lambda_seq[0] = lam\n",
    "    r = copy.copy(y)\n",
    "    f_s = list(range(p))\n",
    "    index = [j_max]\n",
    "    Delta = np.zeros(p)\n",
    "    for k in range(1, p):\n",
    "        sub_s = list(set(f_s) - set(index))\n",
    "        Delta[index] = (np.linalg.inv(X[:, index].T @ X[:, index])\n",
    "                        @ X[:, index].T @ r / lambda_seq[k-1])\n",
    "        u = X[:, sub_s].T @ (r - lambda_seq[k-1] * X @ Delta)\n",
    "        v = -X[:, sub_s].T @ (X @ Delta)\n",
    "        t = ## 空欄(1) ##\n",
    "        for i in range(0, p-k):\n",
    "            if t[i] > lambda_seq[k]:\n",
    "                lambda_seq[k] = t[i]\n",
    "                i_max = i\n",
    "        t = u / (v-1)\n",
    "        for i in range(0, p-k):\n",
    "            if t[i] > lambda_seq[k]:\n",
    "                lambda_seq[k] = t[i]\n",
    "                i_max = i\n",
    "        j = sub_s[i_max]\n",
    "        index.append(j)\n",
    "        beta[k, :] = ## 空欄(2) ##\n",
    "        r = y - X @ beta[k, :]\n",
    "    for k in range(p+1):\n",
    "        for j in range(p):\n",
    "            beta[k, j] = beta[k, j] / scale[j]\n",
    "    return([beta, lambda_seq])"
   ]
  },
  {
   "cell_type": "markdown",
   "metadata": {},
   "source": [
    "### 57"
   ]
  },
  {
   "cell_type": "code",
   "execution_count": null,
   "metadata": {},
   "outputs": [],
   "source": [
    "def fused_dual(y, D):\n",
    "    m = D.shape[0]\n",
    "    lambda_seq = np.zeros(m)\n",
    "    s = np.zeros(m)\n",
    "    alpha = np.zeros((m, m))\n",
    "    alpha[0, :] = np.linalg.pinv(D @ D.T) @ D @ y\n",
    "    for j in range(m):\n",
    "        if np.abs(alpha[0, j]) > lambda_seq[0]:\n",
    "            lambda_seq[0] = np.abs(alpha[0, j])\n",
    "            index = [j]\n",
    "            if alpha[0, j] > 0:\n",
    "                ## 空欄(1) ##\n",
    "    f_s = list(range(m))\n",
    "    for k in range(1, m):\n",
    "        sub_s = list(set(f_s) - set(index))\n",
    "        U = np.linalg.pinv(D[sub_s, :] @ D[sub_s, :].T)\n",
    "        V = D[sub_s, :] @ D[index, :].T\n",
    "        u = U @ D[sub_s, :] @ y\n",
    "        v = U @ V @ s[index]\n",
    "        t = u / (v+1)\n",
    "        for i in range(0, m-k):\n",
    "            if t[i] > lambda_seq[k]:\n",
    "                lambda_seq[k] = t[i]\n",
    "                h = i\n",
    "                r = 1\n",
    "        t = u / (v-1)\n",
    "        for i in range(0, m-k):\n",
    "            if t[i] > lambda_seq[k]:\n",
    "                lambda_seq[k] = t[i]\n",
    "                h = i\n",
    "                r = -1\n",
    "        alpha[k, index] = ## 空欄(2) ##\n",
    "        alpha[k, sub_s] = ## 空欄(3) ##\n",
    "        h = sub_s[h]\n",
    "        index.append(h)\n",
    "        if r == 1:\n",
    "            s[h] = 1\n",
    "        else:\n",
    "            s[h] = -1\n",
    "    return [alpha, lambda_seq]"
   ]
  },
  {
   "cell_type": "markdown",
   "metadata": {},
   "source": [
    "### 58"
   ]
  },
  {
   "cell_type": "code",
   "execution_count": null,
   "metadata": {},
   "outputs": [],
   "source": [
    "n = 20\n",
    "p = 10\n",
    "beta = randn(p+1)\n",
    "X = randn(n*p).reshape((n, p))\n",
    "X_0 = np.insert(X, 0, np.ones(n), axis=1)\n",
    "y = X_0 @ beta + randn(n)\n",
    "m = p - 1\n",
    "D = (np.eye(p) + np.diag([-1]*(p-1), k=1))[:-1]\n",
    "alpha, lambda_seq = fused_dual_general(X, y, D)"
   ]
  },
  {
   "cell_type": "code",
   "execution_count": null,
   "metadata": {},
   "outputs": [],
   "source": [
    "lambda_max = np.max(lambda_seq)\n",
    "alpha_min = np.min(alpha)\n",
    "alpha_max = np.max(alpha)"
   ]
  },
  {
   "cell_type": "code",
   "execution_count": null,
   "metadata": {},
   "outputs": [],
   "source": [
    "plt.xlim(0, lambda_max)\n",
    "plt.ylim(alpha_min, alpha_max)\n",
    "plt.xlabel(r\"$\\lambda$\")\n",
    "plt.ylabel(\"係数の値\")\n",
    "for i in range(0, m):\n",
    "    plt.plot(lambda_seq, alpha[:, i])"
   ]
  },
  {
   "cell_type": "code",
   "execution_count": null,
   "metadata": {},
   "outputs": [],
   "source": [
    "beta, lambda_seq = fused_prime_general(X, y, D)\n",
    "beta_min = np.min(beta)\n",
    "beta_max = np.max(beta)"
   ]
  },
  {
   "cell_type": "code",
   "execution_count": null,
   "metadata": {},
   "outputs": [],
   "source": [
    "plt.xlim(0, lambda_max)\n",
    "plt.ylim(beta_min, beta_max)\n",
    "plt.xlabel(r\"$\\lambda$\")\n",
    "plt.ylabel(\"係数の値\")\n",
    "for i in range(0, p):\n",
    "    plt.plot(lambda_seq, beta[:, i])"
   ]
  },
  {
   "cell_type": "markdown",
   "metadata": {},
   "source": [
    "### 60"
   ]
  },
  {
   "cell_type": "code",
   "execution_count": null,
   "metadata": {},
   "outputs": [],
   "source": [
    "def admm(y, D, lam):\n",
    "    L, K = D.shape\n",
    "    theta_old = np.zeros(K)\n",
    "    theta = np.zeros(K)\n",
    "    gamma = np.zeros(L)\n",
    "    mu = np.zeros(L)\n",
    "    rho = 1\n",
    "    eps = 1\n",
    "    while eps > 0.001:\n",
    "        theta = ## 空欄(1) ##\n",
    "        gamma = ## 空欄(2) ##\n",
    "        mu = mu + ## 空欄(3) ##\n",
    "        eps = np.max(np.abs(theta - theta_old))\n",
    "        theta_old = copy.copy(theta)\n",
    "    return theta"
   ]
  },
  {
   "cell_type": "markdown",
   "metadata": {},
   "source": [
    "### 61(a)"
   ]
  },
  {
   "cell_type": "code",
   "execution_count": 7,
   "metadata": {},
   "outputs": [],
   "source": [
    "import numpy as np"
   ]
  },
  {
   "cell_type": "code",
   "execution_count": 49,
   "metadata": {},
   "outputs": [],
   "source": [
    "df = np.loadtxt(\"airpolution.txt\", delimiter=\"\\t\")\n",
    "y=df[:,2]\n",
    "N=len(y)"
   ]
  },
  {
   "cell_type": "code",
   "execution_count": 50,
   "metadata": {},
   "outputs": [
    {
     "data": {
      "text/plain": [
       "array([67., 72., 74., 62., 65., 59., 61., 69., 66., 68., 58., 64., 66.,\n",
       "       57., 68., 62., 59., 73., 61., 61., 67., 81., 79., 76., 82., 90.,\n",
       "       87., 82., 77., 72., 65., 73., 76., 84., 85., 81., 83., 83., 88.,\n",
       "       92., 92., 89., 73., 81., 80., 81., 82., 84., 87., 85., 74., 86.,\n",
       "       85., 82., 86., 88., 86., 83., 81., 81., 81., 82., 89., 90., 90.,\n",
       "       86., 82., 80., 77., 79., 76., 78., 78., 77., 72., 79., 81., 86.,\n",
       "       97., 94., 96., 94., 91., 92., 93., 93., 87., 84., 80., 78., 75.,\n",
       "       73., 81., 76., 77., 71., 71., 78., 67., 76., 68., 82., 64., 71.,\n",
       "       81., 69., 63., 70., 75., 76., 68.])"
      ]
     },
     "execution_count": 50,
     "metadata": {},
     "output_type": "execute_result"
    }
   ],
   "source": [
    "y"
   ]
  },
  {
   "cell_type": "code",
   "execution_count": 46,
   "metadata": {},
   "outputs": [],
   "source": [
    "D=k_order(N,2)"
   ]
  },
  {
   "cell_type": "code",
   "execution_count": 22,
   "metadata": {},
   "outputs": [
    {
     "ename": "SyntaxError",
     "evalue": "invalid syntax (<ipython-input-22-c17b881a2db1>, line 5)",
     "output_type": "error",
     "traceback": [
      "\u001b[1;36m  File \u001b[1;32m\"<ipython-input-22-c17b881a2db1>\"\u001b[1;36m, line \u001b[1;32m5\u001b[0m\n\u001b[1;33m    theta[:, k] = ## 空欄 ##\u001b[0m\n\u001b[1;37m                  ^\u001b[0m\n\u001b[1;31mSyntaxError\u001b[0m\u001b[1;31m:\u001b[0m invalid syntax\n"
     ]
    }
   ],
   "source": [
    "lambda_seq = np.arange(0, 0.5, 0.01)\n",
    "M = len(lambda_seq)\n",
    "theta = np.zeros((10, M))\n",
    "for k in range(M):\n",
    "    theta[:, k] = ## 空欄 ##"
   ]
  },
  {
   "cell_type": "code",
   "execution_count": null,
   "metadata": {},
   "outputs": [],
   "source": [
    "plt.xlim(0, 0.5)\n",
    "plt.ylim(np.min(theta), np.max(theta))\n",
    "plt.xlabel(r\"$\\lambda$\")\n",
    "plt.ylabel(\"係数の値\")\n",
    "for i in range(0, 10):\n",
    "    plt.plot(lambda_seq, theta[i, :])"
   ]
  },
  {
   "cell_type": "markdown",
   "metadata": {},
   "source": [
    "### 61(b)"
   ]
  },
  {
   "cell_type": "code",
   "execution_count": 56,
   "metadata": {},
   "outputs": [],
   "source": [
    "df = np.loadtxt(\"cgh.txt\", delimiter=\"\\t\")\n",
    "y = df[100:110]\n",
    "N = len(y)\n",
    "D = (np.eye(N) + np.diag([-1]*(N-1), k=1))[:-1]\n",
    "lambda_seq = np.arange(0, 0.5, 0.01)\n",
    "M = len(lambda_seq)"
   ]
  },
  {
   "cell_type": "code",
   "execution_count": 57,
   "metadata": {},
   "outputs": [
    {
     "data": {
      "text/plain": [
       "array([ 0.9937341 ,  0.05022604,  0.8004977 , -0.3939212 , -0.3437259 ,\n",
       "        0.6029057 ,  0.3574817 , -0.4120167 , -0.4674715 ,  0.04206363])"
      ]
     },
     "execution_count": 57,
     "metadata": {},
     "output_type": "execute_result"
    }
   ],
   "source": [
    "y"
   ]
  },
  {
   "cell_type": "code",
   "execution_count": null,
   "metadata": {},
   "outputs": [],
   "source": [
    "theta = np.zeros((10, M))\n",
    "for k in range(M):\n",
    "    theta[:, k] = ## 空欄 ##"
   ]
  },
  {
   "cell_type": "code",
   "execution_count": null,
   "metadata": {},
   "outputs": [],
   "source": [
    "plt.xlim(0, 0.5)\n",
    "plt.ylim(np.min(theta), np.max(theta))\n",
    "plt.xlabel(r\"$\\lambda$\")\n",
    "plt.ylabel(\"係数の値\")\n",
    "for i in range(0, 10):\n",
    "    plt.plot(lambda_seq, theta[i, :])"
   ]
  }
 ],
 "metadata": {
  "kernelspec": {
   "display_name": "Python 3",
   "language": "python",
   "name": "python3"
  },
  "language_info": {
   "codemirror_mode": {
    "name": "ipython",
    "version": 3
   },
   "file_extension": ".py",
   "mimetype": "text/x-python",
   "name": "python",
   "nbconvert_exporter": "python",
   "pygments_lexer": "ipython3",
   "version": "3.8.3"
  }
 },
 "nbformat": 4,
 "nbformat_minor": 2
}
